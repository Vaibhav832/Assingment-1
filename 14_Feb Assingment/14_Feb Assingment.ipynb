{
 "cells": [
  {
   "attachments": {},
   "cell_type": "markdown",
   "metadata": {},
   "source": [
    "Q1. What is multithreading in python? Why is it used? Name the module used to handle threads in python"
   ]
  },
  {
   "attachments": {},
   "cell_type": "markdown",
   "metadata": {},
   "source": [
    "Multithreading in Python refers to the execution of multiple threads simultaneously in a single process. A thread is a separate flow of execution within a program that can run concurrently with other threads.\n",
    "\n",
    "Multithreading is used in Python to improve the performance of programs that involve time-consuming tasks such as I/O operations, network communication, and heavy computations. By using multiple threads, the program can perform these tasks in parallel, which can reduce the total execution time and make the program more responsive.\n",
    "\n",
    "In Python, the threading module is used to handle threads. This module provides a way to create, start, and stop threads, and to synchronize their execution using locks, conditions, and semaphores. It also provides a range of other functions and classes for managing threads, such as Thread, Lock, Condition, and Semaphore."
   ]
  },
  {
   "attachments": {},
   "cell_type": "markdown",
   "metadata": {},
   "source": [
    "Q2. Why threading module used? rite the use of the following functions\n",
    " activeCount()\n",
    " currentThread()\n",
    " enumerate()"
   ]
  },
  {
   "attachments": {},
   "cell_type": "markdown",
   "metadata": {},
   "source": [
    "The threading module is used in Python to implement multithreading, which is the ability of a program to execute multiple threads concurrently in a single process. The module provides a range of functions and classes to manage threads, including creating, starting, stopping, and synchronizing threads.\n",
    "\n",
    "Here are the uses of the following functions in the threading module:\n",
    "\n",
    "activeCount(): This function returns the number of active threads in the current process. It can be used to monitor the number of threads that are currently executing and to ensure that the program is not creating too many threads.\n",
    "\n",
    "currentThread(): This function returns the current thread object, which can be used to access properties of the current thread such as its name, ID, and status.\n",
    "\n",
    "enumerate(): This function returns a list of all the active thread objects in the current process. It can be used to iterate over all the threads in the process and to perform operations on them, such as stopping or suspending them."
   ]
  },
  {
   "attachments": {},
   "cell_type": "markdown",
   "metadata": {},
   "source": [
    "Q3. Explain the following functions\n",
    " run()\n",
    " start()\n",
    " join()\n",
    " isAlive()"
   ]
  },
  {
   "attachments": {},
   "cell_type": "markdown",
   "metadata": {},
   "source": [
    "The following are the explanations for some of the most commonly used functions in the Thread class of the threading module in Python:\n",
    "\n",
    "run(): This function defines the behavior of the thread when it is started. The code inside the run() method is executed in a separate thread when the thread is started. It is important to note that you should not call the run() method directly, but instead, you should call the start() method to start the thread, which in turn calls the run() method.\n",
    "\n",
    "start(): This function is used to start the thread. It creates a new thread of execution and starts executing the code inside the run() method. You should always call the start() method instead of the run() method to start a new thread.\n",
    "\n",
    "join(): This function is used to wait for a thread to complete its execution. When you call the join() method on a thread, the calling thread waits for the target thread to complete its execution. This is useful when you need to ensure that the target thread has completed before continuing with the rest of the program.\n",
    "\n",
    "isAlive(): This function is used to check if a thread is currently executing. It returns True if the thread is currently executing and False if the thread has completed its execution. This can be useful to check if a thread is still running or if it has completed before calling the join() method."
   ]
  },
  {
   "attachments": {},
   "cell_type": "markdown",
   "metadata": {},
   "source": [
    "Q4. Write a python program to create two threads. Thread one must print the list of squares and thread\n",
    "two must print the list of cubes"
   ]
  },
  {
   "cell_type": "code",
   "execution_count": 1,
   "metadata": {},
   "outputs": [],
   "source": [
    "import threading\n",
    "import logging\n",
    "\n",
    "logging.basicConfig(filename='test1.log', level=logging.DEBUG, format='%(asctime)s: %(levelname)s: %(message)s')\n",
    "def print_squares():\n",
    "    for i in range(1, 11):\n",
    "        logging.debug(f\"Square of {i} is {i**2}\")\n",
    "\n",
    "def print_cubes():\n",
    "    for i in range(1, 11):\n",
    "        logging.debug(f\"Cube of {i} is {i**3}\")\n",
    "\n",
    "if __name__ == \"__main__\":\n",
    "    t1 = threading.Thread(target=print_squares)\n",
    "    t2 = threading.Thread(target=print_cubes)\n",
    "\n",
    "    t1.start()\n",
    "    t2.start()\n",
    "\n",
    "    t1.join()\n",
    "    t2.join()\n",
    "\n",
    "    logging.info(\"Done printing squares and cubes\")\n",
    "    logging.shutdown()"
   ]
  },
  {
   "attachments": {},
   "cell_type": "markdown",
   "metadata": {},
   "source": [
    "Q5. State advantages and disadvantages of multithreading"
   ]
  },
  {
   "attachments": {},
   "cell_type": "markdown",
   "metadata": {},
   "source": [
    "Advantages:\n",
    "\n",
    "1. Improved performance: Multithreading can improve the performance of a program by allowing different parts of the code to execute concurrently on multiple cores of a CPU. This can lead to faster execution and increased throughput.\n",
    "\n",
    "2. Responsiveness: Multithreading can help a program remain responsive to user input even while it performs background processing. For example, a graphical user interface (GUI) can use one thread to handle user input and another thread to perform computations in the background.\n",
    "\n",
    "3. Resource sharing: Multithreading can allow multiple threads to share resources such as memory and I/O devices more efficiently than if each thread had to access these resources exclusively.\n",
    "\n",
    "4. Scalability: Multithreading can help a program scale to handle larger workloads by allowing more threads to be created to handle more tasks.\n",
    "\n",
    "Disadvantages:\n",
    "\n",
    "1. Complexity: Multithreading can add significant complexity to a program. Writing code that correctly synchronizes and coordinates access to shared resources can be difficult, and debugging threading issues can be challenging.\n",
    "\n",
    "2. Synchronization overhead: When multiple threads access shared resources, they must be synchronized to ensure that they do not interfere with each other. This synchronization can add overhead to the program and may reduce its performance.\n",
    "\n",
    "3. Race conditions: Multithreading can introduce race conditions, which occur when two or more threads access shared resources in an unpredictable order. This can lead to unexpected and hard-to-debug errors.\n",
    "\n",
    "4. Deadlocks: Deadlocks can occur when two or more threads are waiting for each other to release a shared resource. This can lead to a situation where the program stops responding and must be terminated."
   ]
  },
  {
   "attachments": {},
   "cell_type": "markdown",
   "metadata": {},
   "source": [
    "Q6. Explain deadlocks and race conditions."
   ]
  },
  {
   "attachments": {},
   "cell_type": "markdown",
   "metadata": {},
   "source": [
    "Deadlock occurs when two or more threads are blocked waiting for each other to release resources that they are holding. In other words, each thread is waiting for a resource that is held by another thread, resulting in a situation where neither thread can proceed. Deadlocks can be very difficult to detect and resolve, and they can cause a program to become unresponsive or crash.\n",
    "\n",
    "Race conditions occur when two or more threads access shared resources in an unpredictable order. This can lead to unexpected behavior and hard-to-debug errors. For example, if two threads try to update the same variable at the same time, the final value of the variable may be different from what either thread intended. To prevent race conditions, it is important to synchronize access to shared resources using techniques such as locks or semaphores."
   ]
  }
 ],
 "metadata": {
  "kernelspec": {
   "display_name": "Python 3",
   "language": "python",
   "name": "python3"
  },
  "language_info": {
   "codemirror_mode": {
    "name": "ipython",
    "version": 3
   },
   "file_extension": ".py",
   "mimetype": "text/x-python",
   "name": "python",
   "nbconvert_exporter": "python",
   "pygments_lexer": "ipython3",
   "version": "3.10.5"
  },
  "orig_nbformat": 4,
  "vscode": {
   "interpreter": {
    "hash": "af3d4b4a9b36c42385c65ba6cde76bc0fbbfb198037448cb630978b484747b49"
   }
  }
 },
 "nbformat": 4,
 "nbformat_minor": 2
}
