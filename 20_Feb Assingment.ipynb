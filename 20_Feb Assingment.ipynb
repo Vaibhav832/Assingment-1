{
  "cells": [
    {
      "attachments": {},
      "cell_type": "markdown",
      "metadata": {},
      "source": [
        "Q1. Explain GET and POST methods."
      ]
    },
    {
      "attachments": {},
      "cell_type": "markdown",
      "metadata": {},
      "source": [
        "GET and POST are HTTP methods used in web programming to communicate between a client and server.\n",
        "\n",
        "1. GET method:\n",
        "The GET method is used to retrieve information from the server. When a client makes a GET request, the server responds with data that matches the query parameters provided in the URL. The data is usually in the form of a web page, an image or a file. GET requests are idempotent, meaning they do not modify the state of the server, and can be cached by the browser.\n",
        "\n",
        "2. POST method:\n",
        "The POST method is used to submit data to the server. When a client makes a POST request, it sends data in the body of the request to the server. This data can be used to create or update a resource on the server, such as adding a new record to a database. POST requests are not idempotent, meaning multiple requests can create multiple resources or modify the state of the server in a non-reproducible way."
      ]
    },
    {
      "attachments": {},
      "cell_type": "markdown",
      "metadata": {},
      "source": [
        "Q2. Why is request used in Flask?"
      ]
    },
    {
      "attachments": {},
      "cell_type": "markdown",
      "metadata": {},
      "source": [
        "The request object in Flask is used to access and manipulate incoming HTTP requests. When a client sends a request to a Flask application, the request object provides access to the request data such as form data, request headers, and URL parameters.\n",
        "\n",
        "The request object allows Flask developers to easily handle different types of requests, including GET, POST, and others. It provides a convenient interface to retrieve and manipulate data sent by the client, such as form data or JSON payloads. The request object also provides methods to access the URL parameters, cookies, and HTTP headers sent by the client."
      ]
    },
    {
      "attachments": {},
      "cell_type": "markdown",
      "metadata": {},
      "source": [
        "Q3. Why is redirect() used in Flask?"
      ]
    },
    {
      "attachments": {},
      "cell_type": "markdown",
      "metadata": {},
      "source": [
        "The redirect() function in Flask is used to redirect a user to a different URL or endpoint. It is commonly used in web applications to direct a user to a new page after a specific action has been taken, such as submitting a form or logging in.\n",
        "\n",
        "When a Flask application receives a request that requires a redirect, it can use the redirect() function to create a new HTTP response with a Location header that contains the URL to redirect the user to. The user's browser will then receive the redirect response and automatically navigate to the new URL."
      ]
    },
    {
      "attachments": {},
      "cell_type": "markdown",
      "metadata": {},
      "source": [
        "Q4. What are templates in Flask? Why is the render_template() function used?"
      ]
    },
    {
      "attachments": {},
      "cell_type": "markdown",
      "metadata": {},
      "source": [
        "Templates in Flask are pre-designed HTML files that are used to dynamically generate web pages based on user requests. Flask uses a template engine called Jinja2 to render templates and fill in the dynamic content.\n",
        "\n",
        "The render_template() function in Flask is used to render a template and return the resulting HTML to the client. The function takes the name of the template file and any variables that should be passed to the template engine as arguments. The template engine then uses the passed-in variables to generate the final HTML file."
      ]
    },
    {
      "attachments": {},
      "cell_type": "markdown",
      "metadata": {},
      "source": [
        "Q5. Create a simple API. Use Postman to test it. Attach the screenshot of the output in the Jupyter Notebook."
      ]
    },
    {
      "cell_type": "code",
      "execution_count": 5,
      "metadata": {},
      "outputs": [
        {
          "name": "stdout",
          "output_type": "stream",
          "text": [
            " * Serving Flask app '__main__'\n",
            " * Debug mode: off\n"
          ]
        },
        {
          "name": "stderr",
          "output_type": "stream",
          "text": [
            "WARNING: This is a development server. Do not use it in a production deployment. Use a production WSGI server instead.\n",
            " * Running on all addresses (0.0.0.0)\n",
            " * Running on http://127.0.0.1:5000\n",
            " * Running on http://192.168.29.12:5000\n",
            "Press CTRL+C to quit\n"
          ]
        }
      ],
      "source": [
        "from flask import Flask, jsonify\n",
        "\n",
        "app = Flask(__name__)\n",
        "\n",
        "@app.route('/hello', methods=['GET'])\n",
        "def hello():\n",
        "    return jsonify({'message': 'Hello, world!'})\n",
        "\n",
        "if __name__ == '__main__':\n",
        "    app.run(host='0.0.0.0')"
      ]
    },
    {
      "attachments": {},
      "cell_type": "markdown",
      "metadata": {},
      "source": [
        "![Image Not Found](2023-02-24%20(6).png)"
      ]
    },
    {
      "cell_type": "markdown",
      "metadata": {},
      "source": []
    }
  ],
  "metadata": {
    "kernelspec": {
      "display_name": "Python 3",
      "language": "python",
      "name": "python3"
    },
    "language_info": {
      "codemirror_mode": {
        "name": "ipython",
        "version": 3
      },
      "file_extension": ".py",
      "mimetype": "text/x-python",
      "name": "python",
      "nbconvert_exporter": "python",
      "pygments_lexer": "ipython3",
      "version": "3.10.5"
    },
    "orig_nbformat": 4,
    "vscode": {
      "interpreter": {
        "hash": "af3d4b4a9b36c42385c65ba6cde76bc0fbbfb198037448cb630978b484747b49"
      }
    }
  },
  "nbformat": 4,
  "nbformat_minor": 2
}