{
 "cells": [
  {
   "cell_type": "code",
   "execution_count": 1,
   "id": "cb04c225-a77c-40e3-a51f-c018e3121d6d",
   "metadata": {},
   "outputs": [
    {
     "name": "stdout",
     "output_type": "stream",
     "text": [
      "\n",
      "\tFor Loop Example:\n",
      "0\n",
      "1\n",
      "2\n",
      "3\n",
      "4\n",
      "\n",
      "\tWhile Loop Example:\n",
      "0\n",
      "1\n",
      "2\n",
      "3\n",
      "4\n"
     ]
    },
    {
     "data": {
      "text/plain": [
       "\"\\nIn general, we use a 'for' loop if we know beforehand how many times we want to iterate, and we use a 'while' loop if we want to keep looping until a certain condition is met.\\n\""
      ]
     },
     "execution_count": 1,
     "metadata": {},
     "output_type": "execute_result"
    }
   ],
   "source": [
    "\"\"\"\n",
    "Ans-1) A 'for' loop is used to iterate over a sequence (such as a list, tuple, or string) and execute a block of code for each item in the sequence. Here's an example that prints the numbers 0 to 4:\n",
    "\"\"\"\n",
    "print(\"\\n\\tFor Loop Example:\")\n",
    "for i in range(5):\n",
    "    print(i)\n",
    "\"\"\"\n",
    "A 'while' loop, on the other hand, executes a block of code as long as a condition is true. Here's an example that prints numbers 0 to 4:\n",
    "\"\"\"\n",
    "print(\"\\n\\tWhile Loop Example:\")\n",
    "i = 0\n",
    "while i < 5:\n",
    "    print(i)\n",
    "    i += 1\n",
    "\"\"\"\n",
    "In general, we use a 'for' loop if we know beforehand how many times we want to iterate, and we use a 'while' loop if we want to keep looping until a certain condition is met.\n",
    "\"\"\""
   ]
  },
  {
   "cell_type": "code",
   "execution_count": 2,
   "id": "47bd93d5-1b0d-4a0a-bf3c-82299f6bb69e",
   "metadata": {},
   "outputs": [
    {
     "name": "stdout",
     "output_type": "stream",
     "text": [
      "\n",
      "\t\tUsing for loop\n",
      "Sum of first 10 natural numbers is 55\n",
      "Product of first 10 natural numbers is 3628800\n",
      "\n",
      "\t\tUsing while loop\n",
      "Sum of first 10 natural numbers is 55\n",
      "Product of first 10 natural numbers is 3628800\n"
     ]
    }
   ],
   "source": [
    "#program to print the sum and product of the first 10 natural numbers using for and while loop.\n",
    "sum = 0\n",
    "prod = 1\n",
    "print(\"\\n\\t\\tUsing for loop\")\n",
    "for i in range(1,11):\n",
    "    sum += i\n",
    "    prod *= i\n",
    "print(\"Sum of first 10 natural numbers is\",sum)\n",
    "print(\"Product of first 10 natural numbers is\",prod)\n",
    "print(\"\\n\\t\\tUsing while loop\")\n",
    "sum=0\n",
    "prod=1\n",
    "i=1\n",
    "while i <= 10:\n",
    "    sum += i\n",
    "    prod *= i\n",
    "    i += 1\n",
    "print(\"Sum of first 10 natural numbers is\",sum)\n",
    "print(\"Product of first 10 natural numbers is\",prod)"
   ]
  },
  {
   "cell_type": "code",
   "execution_count": 3,
   "id": "7523fddf-e0f0-44d6-a079-f364b54eaea3",
   "metadata": {},
   "outputs": [
    {
     "name": "stdin",
     "output_type": "stream",
     "text": [
      "Enter the number of units consumed:  310\n"
     ]
    },
    {
     "name": "stdout",
     "output_type": "stream",
     "text": [
      "Total charges: Rs. 2250.0\n"
     ]
    }
   ],
   "source": [
    "#Ans-3) Program to compute electricity bill\n",
    "units = eval(input(\"Enter the number of units consumed: \"))\n",
    "\n",
    "if units <= 100:\n",
    "    charges = units * 4.5\n",
    "elif units <= 200:\n",
    "    charges = (100 * 4.5) + ((units - 100) * 6)\n",
    "elif units <= 300:\n",
    "    charges = (100 * 4.5) + (100 * 6) + ((units - 200) * 10)\n",
    "else:\n",
    "    charges = (100 * 4.5) + (100 * 6) + (100 * 10) + ((units - 300) * 20)\n",
    "\n",
    "print(\"Total charges: Rs.\", charges)\n"
   ]
  },
  {
   "cell_type": "code",
   "execution_count": 4,
   "id": "3a2e2a2c-60fa-40eb-bc07-3eafe36b859c",
   "metadata": {},
   "outputs": [
    {
     "name": "stdout",
     "output_type": "stream",
     "text": [
      "Numbers whose cube is divisible by 4 or 5 (for loop):  [2, 4, 5, 6, 8, 10, 12, 14, 15, 16, 18, 20, 22, 24, 25, 26, 28, 30, 32, 34, 35, 36, 38, 40, 42, 44, 45, 46, 48, 50, 52, 54, 55, 56, 58, 60, 62, 64, 65, 66, 68, 70, 72, 74, 75, 76, 78, 80, 82, 84, 85, 86, 88, 90, 92, 94, 95, 96, 98, 100]\n",
      "Numbers whose cube is divisible by 4 or 5 (while loop):  [2, 4, 5, 6, 8, 10, 12, 14, 15, 16, 18, 20, 22, 24, 25, 26, 28, 30, 32, 34, 35, 36, 38, 40, 42, 44, 45, 46, 48, 50, 52, 54, 55, 56, 58, 60, 62, 64, 65, 66, 68, 70, 72, 74, 75, 76, 78, 80, 82, 84, 85, 86, 88, 90, 92, 94, 95, 96, 98, 100]\n"
     ]
    }
   ],
   "source": [
    "# Ans-4) \n",
    "# Using a for loop\n",
    "numbers = []\n",
    "for i in range(1, 101):\n",
    "    cube = i**3\n",
    "    if (cube % 4 == 0) or (cube % 5 == 0):\n",
    "        numbers.append(i)\n",
    "\n",
    "print(\"Numbers whose cube is divisible by 4 or 5 (for loop): \", numbers)\n",
    "\n",
    "# Using a while loop\n",
    "numbers = []\n",
    "i = 1\n",
    "while i <= 100:\n",
    "    cube = i**3\n",
    "    if (cube % 4 == 0) or (cube % 5 == 0):\n",
    "        numbers.append(i)\n",
    "    i += 1\n",
    "\n",
    "print(\"Numbers whose cube is divisible by 4 or 5 (while loop): \", numbers)\n"
   ]
  },
  {
   "cell_type": "code",
   "execution_count": 5,
   "id": "22de7d82-4116-4f3b-87ac-e68d179dc9c3",
   "metadata": {},
   "outputs": [
    {
     "name": "stdout",
     "output_type": "stream",
     "text": [
      "Number of vowels in the given string:  12\n"
     ]
    }
   ],
   "source": [
    "#Ans-5) program to filter count vowels in the below-given string.\n",
    "string = \"I want to become a data scientist\"\n",
    "vowels = \"aeiouAEIOU\"\n",
    "count = 0\n",
    "\n",
    "for char in string:\n",
    "    if char in vowels:\n",
    "        count += 1\n",
    "\n",
    "print(\"Number of vowels in the given string: \", count)\n"
   ]
  },
  {
   "cell_type": "code",
   "execution_count": null,
   "id": "a4b401af-8eb5-433f-9731-342c1df088bf",
   "metadata": {},
   "outputs": [],
   "source": []
  }
 ],
 "metadata": {
  "kernelspec": {
   "display_name": "Python 3 (ipykernel)",
   "language": "python",
   "name": "python3"
  },
  "language_info": {
   "codemirror_mode": {
    "name": "ipython",
    "version": 3
   },
   "file_extension": ".py",
   "mimetype": "text/x-python",
   "name": "python",
   "nbconvert_exporter": "python",
   "pygments_lexer": "ipython3",
   "version": "3.10.8"
  }
 },
 "nbformat": 4,
 "nbformat_minor": 5
}
