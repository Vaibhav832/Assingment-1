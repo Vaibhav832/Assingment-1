{
 "cells": [
  {
   "cell_type": "code",
   "execution_count": 1,
   "id": "b054947c-33e9-49a1-9431-5bdadb7d61a0",
   "metadata": {},
   "outputs": [
    {
     "data": {
      "text/plain": [
       "'\\nAns-1) Class is a blueprint or a template for creating objects (a particular data structure), providing initial values for state (member variables or attributes), and implementations of behavior (member functions or methods).\\nWhereas,\\nAn Object is an instance of a Class. It is a basic unit of Object-Oriented Programming and represents a real-world entity with its properties and behavior.\\n\\nExample:\\nConsider a Class called \"Car\" with attributes such as \"make\", \"model\", and \"year\". The behavior of the Car Class could include \"start engine\", \"accelerate\", and \"stop\".\\n\\nA specific car object can be created using this class, for example, a 2019 Toyota Camry. This object would have the values \"Toyota\" for make, \"Camry\" for model, and \"2019\" for year.\\n'"
      ]
     },
     "execution_count": 1,
     "metadata": {},
     "output_type": "execute_result"
    }
   ],
   "source": [
    "\"\"\"\n",
    "Ans-1) Class is a blueprint or a template for creating objects (a particular data structure), providing initial values for state (member variables or attributes), and implementations of behavior (member functions or methods).\n",
    "Whereas,\n",
    "An Object is an instance of a Class. It is a basic unit of Object-Oriented Programming and represents a real-world entity with its properties and behavior.\n",
    "\n",
    "Example:\n",
    "Consider a Class called \"Car\" with attributes such as \"make\", \"model\", and \"year\". The behavior of the Car Class could include \"start engine\", \"accelerate\", and \"stop\".\n",
    "\n",
    "A specific car object can be created using this class, for example, a 2019 Toyota Camry. This object would have the values \"Toyota\" for make, \"Camry\" for model, and \"2019\" for year.\n",
    "\"\"\""
   ]
  },
  {
   "cell_type": "code",
   "execution_count": 2,
   "id": "210656b0-b3e0-43c0-bae2-74302e0e2603",
   "metadata": {},
   "outputs": [
    {
     "data": {
      "text/plain": [
       "'\\nAns-2) The four pillars of Object-Oriented Programming (OOP) are:\\n\\nEncapsulation: The wrapping up of data and functions into a single unit (an object). It provides a secure mechanism for hiding the implementation details of a class from other parts of the program.\\n\\nAbstraction: The process of hiding the implementation details and exposing only the essential features of an object, to the users.\\n\\nInheritance: The mechanism of obtaining the features of a class from another class. It provides a way to create new classes that are built upon existing classes.\\n\\nPolymorphism: The ability of objects to take on multiple forms. It allows objects of different classes to be treated as objects of a common class.\\n'"
      ]
     },
     "execution_count": 2,
     "metadata": {},
     "output_type": "execute_result"
    }
   ],
   "source": [
    "\"\"\"\n",
    "Ans-2) The four pillars of Object-Oriented Programming (OOP) are:\n",
    "\n",
    "Encapsulation: The wrapping up of data and functions into a single unit (an object). It provides a secure mechanism for hiding the implementation details of a class from other parts of the program.\n",
    "\n",
    "Abstraction: The process of hiding the implementation details and exposing only the essential features of an object, to the users.\n",
    "\n",
    "Inheritance: The mechanism of obtaining the features of a class from another class. It provides a way to create new classes that are built upon existing classes.\n",
    "\n",
    "Polymorphism: The ability of objects to take on multiple forms. It allows objects of different classes to be treated as objects of a common class.\n",
    "\"\"\""
   ]
  },
  {
   "cell_type": "code",
   "execution_count": 3,
   "id": "98dfd93f-afa9-4ceb-bf0e-745f2bf3379d",
   "metadata": {},
   "outputs": [
    {
     "name": "stdout",
     "output_type": "stream",
     "text": [
      "Labrador\n",
      "Max\n"
     ]
    }
   ],
   "source": [
    "\"\"\"\n",
    "Ans-3) The purpose of the __init__ method is to initialize the attributes of the class, and to set their default values. This way, when an object is created, it's automatically given its initial state.\n",
    "\n",
    "Here's a simple example:\n",
    "\"\"\"\n",
    "class Dog:\n",
    "    def __init__(self, breed, name):\n",
    "        self.breed = breed\n",
    "        self.name = name\n",
    "\n",
    "dog = Dog(\"Labrador\", \"Max\")\n",
    "print(dog.breed) # Output: Labrador\n",
    "print(dog.name) # Output: Max"
   ]
  },
  {
   "cell_type": "code",
   "execution_count": 4,
   "id": "45f1814a-1080-49a7-8d4c-75cc5bbd45ef",
   "metadata": {},
   "outputs": [
    {
     "name": "stdout",
     "output_type": "stream",
     "text": [
      "Bark! My name is Max\n"
     ]
    }
   ],
   "source": [
    "\"\"\"\n",
    "Ans-4) In Object-Oriented Programming (OOP), self is a reference to the current instance of the class. It is used to access the attributes and methods of the class within the class definition.\n",
    "\n",
    "When a method is called on an object, the object is automatically passed as the first argument to the method. This argument is usually named self by convention. In the method definition, self refers to the object on which the method was called.\n",
    "\n",
    "For example:\n",
    "\"\"\"\n",
    "class Dog:\n",
    "    def __init__(self, breed, name):\n",
    "        self.breed = breed\n",
    "        self.name = name\n",
    "\n",
    "    def bark(self):\n",
    "        print(\"Bark! My name is {}\".format(self.name))\n",
    "\n",
    "dog = Dog(\"Labrador\", \"Max\")\n",
    "dog.bark() # Output: Bark! My name is Max"
   ]
  },
  {
   "cell_type": "code",
   "execution_count": 5,
   "id": "fe138b5d-ff90-47f6-a4e3-7c9f4f4989e8",
   "metadata": {},
   "outputs": [],
   "source": [
    "\"\"\"\n",
    "Ans-5) nheritance is a mechanism in Object-Oriented Programming (OOP) that allows one class to inherit properties and behavior from another class. It provides a way to create new classes that are built upon existing classes, thus promoting code reuse and reducing duplication.\n",
    "\n",
    "There are several types of inheritance in OOP:\n",
    "\n",
    "Single Inheritance: In single inheritance, a derived class inherits from a single base class. For example:\n",
    "\"\"\"\n",
    "class Animal:\n",
    "    def __init__(self, species):\n",
    "        self.species = species\n",
    "\n",
    "    def show_species(self):\n",
    "        print(\"Species:\", self.species)\n",
    "\n",
    "class Dog(Animal):\n",
    "    def __init__(self, breed, name):\n",
    "        Animal.__init__(self, \"Canine\")\n",
    "        self.breed = breed\n",
    "        self.name = name\n",
    "\n",
    "    def show_breed(self):\n",
    "        print(\"Breed:\", self.breed)\n",
    "\"\"\"\n",
    "Multiple Inheritance: In multiple inheritance, a derived class inherits from multiple base classes. For example:\n",
    "\"\"\"\n",
    "class Animal:\n",
    "    def __init__(self, species):\n",
    "        self.species = species\n",
    "\n",
    "    def show_species(self):\n",
    "        print(\"Species:\", self.species)\n",
    "\n",
    "class Domestic:\n",
    "    def __init__(self, pet):\n",
    "        self.pet = pet\n",
    "\n",
    "    def show_pet(self):\n",
    "        print(\"Pet:\", self.pet)\n",
    "\n",
    "class Dog(Animal, Domestic):\n",
    "    def __init__(self, breed, name):\n",
    "        Animal.__init__(self, \"Canine\")\n",
    "        Domestic.__init__(self, True)\n",
    "        self.breed = breed\n",
    "        self.name = name\n",
    "\n",
    "    def show_breed(self):\n",
    "        print(\"Breed:\", self.breed)\n",
    "\"\"\"\n",
    "Multi-level Inheritance: In multi-level inheritance, a derived class inherits from a base class, which in turn inherits from another base class. For example:\n",
    "\"\"\"\n",
    "class Animal:\n",
    "    def __init__(self, species):\n",
    "        self.species = species\n",
    "\n",
    "    def show_species(self):\n",
    "        print(\"Species:\", self.species)\n",
    "\n",
    "class Domestic(Animal):\n",
    "    def __init__(self, pet):\n",
    "        Animal.__init__(self, \"Domestic Animal\")\n",
    "        self.pet = pet\n",
    "\n",
    "    def show_pet(self):\n",
    "        print(\"Pet:\", self.pet)\n",
    "\n",
    "class Dog(Domestic):\n",
    "    def __init__(self, breed, name):\n",
    "        Domestic.__init__(self, True)\n",
    "        self.breed = breed\n",
    "        self.name = name\n",
    "\n",
    "    def show_breed(self):\n",
    "        print(\"Breed:\", self.breed)\n"
   ]
  },
  {
   "cell_type": "code",
   "execution_count": null,
   "id": "c5748f89-19d9-4266-904f-273246d6f369",
   "metadata": {},
   "outputs": [],
   "source": []
  }
 ],
 "metadata": {
  "kernelspec": {
   "display_name": "Python 3 (ipykernel)",
   "language": "python",
   "name": "python3"
  },
  "language_info": {
   "codemirror_mode": {
    "name": "ipython",
    "version": 3
   },
   "file_extension": ".py",
   "mimetype": "text/x-python",
   "name": "python",
   "nbconvert_exporter": "python",
   "pygments_lexer": "ipython3",
   "version": "3.10.8"
  }
 },
 "nbformat": 4,
 "nbformat_minor": 5
}
