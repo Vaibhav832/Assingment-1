{
 "cells": [
  {
   "cell_type": "code",
   "execution_count": 1,
   "id": "82155290-1683-417b-9e4b-8d234958eb77",
   "metadata": {},
   "outputs": [
    {
     "name": "stdin",
     "output_type": "stream",
     "text": [
      "Password: ONtw123@#$\n"
     ]
    },
    {
     "name": "stdout",
     "output_type": "stream",
     "text": [
      "Valid Password\n"
     ]
    }
   ],
   "source": [
    "# Ans-1) program to check given conditions in password\n",
    "def check_password(password):\n",
    "    # Check length of password\n",
    "    if len(password) < 10:\n",
    "        return \"Invalid Password\"\n",
    "\n",
    "    # Check presence of at least two uppercase letters\n",
    "    upper_count = sum(c.isupper() for c in password)\n",
    "    if upper_count < 2:\n",
    "        return \"Invalid Password\"\n",
    "\n",
    "    # Check presence of at least two lowercase letters\n",
    "    lower_count = sum(c.islower() for c in password)\n",
    "    if lower_count < 2:\n",
    "        return \"Invalid Password\"\n",
    "\n",
    "    # Check presence of at least one number\n",
    "    if not any(c.isdigit() for c in password):\n",
    "        return \"Invalid Password\"\n",
    "\n",
    "    # Check presence of at least three special characters\n",
    "    special_count = sum(not c.isalnum() for c in password)\n",
    "    if special_count < 3:\n",
    "        return \"Invalid Password\"\n",
    "\n",
    "    # Password meets all requirements\n",
    "    return \"Valid Password\"\n",
    "passwor = input(\"Password:\")\n",
    "print(check_password(passwor))"
   ]
  },
  {
   "cell_type": "markdown",
   "id": "24512ac4-0a66-4ee6-b4ab-044d0852911c",
   "metadata": {},
   "source": [
    "Ans-2_A)Check if the string starts with a particular letter"
   ]
  },
  {
   "cell_type": "code",
   "execution_count": 2,
   "id": "e814a7ce-3144-416e-adc9-26138c3d06a5",
   "metadata": {},
   "outputs": [
    {
     "name": "stdout",
     "output_type": "stream",
     "text": [
      "True\n"
     ]
    }
   ],
   "source": [
    "starts_with_letter = lambda x, letter: x.startswith(letter)\n",
    "print(starts_with_letter(\"Hello\", \"H\")) # True"
   ]
  },
  {
   "cell_type": "markdown",
   "id": "5423d06e-ab7e-4369-997f-298fbdc561d7",
   "metadata": {},
   "source": [
    "Ans-2_B)Check if the string is numeric"
   ]
  },
  {
   "cell_type": "code",
   "execution_count": 3,
   "id": "25f45647-16b4-4d8c-9224-8dedaf7db805",
   "metadata": {},
   "outputs": [
    {
     "name": "stdout",
     "output_type": "stream",
     "text": [
      "True\n"
     ]
    }
   ],
   "source": [
    "is_numeric = lambda x: x.isnumeric()\n",
    "print(is_numeric(\"123\")) # True"
   ]
  },
  {
   "cell_type": "markdown",
   "id": "8fb410eb-809f-4890-8099-cc1ba1e41fa8",
   "metadata": {},
   "source": [
    "Ans-2_C)Sort a list of tuples having fruit names and their quantity. [(\"mango\",99),(\"orange\",80), (\"grapes\", 1000)]"
   ]
  },
  {
   "cell_type": "code",
   "execution_count": 4,
   "id": "c1986b91-16c0-4f27-9b45-0cec8234e895",
   "metadata": {},
   "outputs": [
    {
     "name": "stdout",
     "output_type": "stream",
     "text": [
      "[('orange', 80), ('mango', 99), ('grapes', 1000)]\n"
     ]
    }
   ],
   "source": [
    "fruits = [(\"mango\", 99), (\"orange\", 80), (\"grapes\", 1000)]\n",
    "sorted_fruits = sorted(fruits, key=lambda x: x[1])\n",
    "print(sorted_fruits) # [(\"mango\", 99), (\"orange\", 80), (\"grapes\", 1000)]"
   ]
  },
  {
   "cell_type": "markdown",
   "id": "c8f00954-73de-4d5b-b7de-96d021e2bb86",
   "metadata": {},
   "source": [
    "Ans-2_D)Find the squares of numbers from 1 to 10"
   ]
  },
  {
   "cell_type": "code",
   "execution_count": 5,
   "id": "e52da43e-5f6a-48be-a63e-896e75262965",
   "metadata": {},
   "outputs": [
    {
     "name": "stdout",
     "output_type": "stream",
     "text": [
      "[1, 4, 9, 16, 25, 36, 49, 64, 81, 100]\n"
     ]
    }
   ],
   "source": [
    "squared_numbers = [x**2 for x in range(1, 11)]\n",
    "print(squared_numbers) # [1, 4, 9, 16, 25, 36, 49, 64, 81, 100]"
   ]
  },
  {
   "cell_type": "markdown",
   "id": "11ae0506-8678-42b5-abb8-74f80c9ed829",
   "metadata": {},
   "source": [
    "Ans-2_E)Find the cube root of numbers from 1 to 10"
   ]
  },
  {
   "cell_type": "code",
   "execution_count": 6,
   "id": "0f03108e-8d37-46d1-bd35-fa03ef8a1bb6",
   "metadata": {},
   "outputs": [
    {
     "name": "stdout",
     "output_type": "stream",
     "text": [
      "[1.0, 1.2599210498948734, 1.4422495703074083, 1.5874010519681996, 1.7099759466766968, 1.8171205928321394, 1.9129311827723894, 2.0, 2.080083823051904, 2.1544346900318834]\n"
     ]
    }
   ],
   "source": [
    "import numpy\n",
    "cuberoot_numbers = [numpy.cbrt(x) for x in range(1, 11)]\n",
    "print(cuberoot_numbers)"
   ]
  },
  {
   "cell_type": "markdown",
   "id": "109aa5e4-49c7-443d-a54c-4f3df0de3c77",
   "metadata": {},
   "source": [
    "Ans-2_F)Check if a given number is even"
   ]
  },
  {
   "cell_type": "code",
   "execution_count": 7,
   "id": "05d25c85-0193-4b6e-ad0a-fe8f7e661e2f",
   "metadata": {},
   "outputs": [
    {
     "name": "stdout",
     "output_type": "stream",
     "text": [
      "True\n"
     ]
    }
   ],
   "source": [
    "is_even = lambda x: x % 2 == 0\n",
    "print(is_even(4)) # True"
   ]
  },
  {
   "cell_type": "markdown",
   "id": "b884138f-dfe3-44b1-af28-2a504ad54763",
   "metadata": {},
   "source": [
    "Ans-2_G)Filter odd numbers from the given list.\n",
    "[1,2,3,4,5,6,7,8,9,10]"
   ]
  },
  {
   "cell_type": "code",
   "execution_count": 8,
   "id": "1c6927b2-656d-458f-a0bb-92447f070243",
   "metadata": {},
   "outputs": [
    {
     "name": "stdout",
     "output_type": "stream",
     "text": [
      "[1, 3, 5, 7, 9]\n"
     ]
    }
   ],
   "source": [
    "numbers = [1, 2, 3, 4, 5, 6, 7, 8, 9, 10]\n",
    "odd_numbers = list(filter(lambda x: x % 2 != 0, numbers))\n",
    "print(odd_numbers) # [1, 3, 5, 7, 9]"
   ]
  },
  {
   "cell_type": "markdown",
   "id": "53cd3be4-ac62-45a8-9565-89a68d929f05",
   "metadata": {},
   "source": [
    "Ans-2_H)Sort a list of integers into positive and negative integers lists.\n",
    "[1,2,3,4,5,6,-1,-2,-3,-4,-5,0]"
   ]
  },
  {
   "cell_type": "code",
   "execution_count": 9,
   "id": "298cf941-9e14-4182-8767-d610c2015031",
   "metadata": {},
   "outputs": [
    {
     "name": "stdout",
     "output_type": "stream",
     "text": [
      "[1, 2, 3, 4, 5, 6]\n",
      "[-1, -2, -3, -4, -5]\n"
     ]
    }
   ],
   "source": [
    "numbers = [1, 2, 3, 4, 5, 6, -1, -2, -3, -4, -5, 0]\n",
    "positive_numbers = list(filter(lambda x: x > 0, numbers))\n",
    "negative_numbers = list(filter(lambda x: x < 0, numbers))\n",
    "print(positive_numbers) # [1, 2, 3, 4, 5, 6]\n",
    "print(negative_numbers) # [-1, -2, -3, -4, -5]"
   ]
  },
  {
   "cell_type": "code",
   "execution_count": null,
   "id": "df08c89b-9d4d-40ac-8c65-d4f0b63ebadb",
   "metadata": {},
   "outputs": [],
   "source": []
  }
 ],
 "metadata": {
  "kernelspec": {
   "display_name": "Python 3 (ipykernel)",
   "language": "python",
   "name": "python3"
  },
  "language_info": {
   "codemirror_mode": {
    "name": "ipython",
    "version": 3
   },
   "file_extension": ".py",
   "mimetype": "text/x-python",
   "name": "python",
   "nbconvert_exporter": "python",
   "pygments_lexer": "ipython3",
   "version": "3.10.8"
  }
 },
 "nbformat": 4,
 "nbformat_minor": 5
}
