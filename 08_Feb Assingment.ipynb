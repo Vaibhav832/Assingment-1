{
 "cells": [
  {
   "cell_type": "markdown",
   "id": "8ae719c0-1f41-4de6-accc-9011d5369592",
   "metadata": {},
   "source": [
    "Ques-1)What is Abstraction in OOps? Explain with an example."
   ]
  },
  {
   "cell_type": "markdown",
   "id": "c9469f32-e397-441f-90c4-40713655b1e4",
   "metadata": {},
   "source": [
    "Ans-1)Abstraction is a fundamental concept in object-oriented programming (OOP) that refers to the ability to focus on essential features of an object and ignore the non-essential details. It's a process of hiding the implementation details from the user and only showing the necessary information. This helps to reduce complexity and improve the maintainability of the code.\n",
    "For example, consider a car object in an OOP program. The abstraction of a car object would only show its properties, such as color, number of wheels, and fuel type, and hide the internal details, such as the engine specifications, transmission system, and the like. From the user's perspective, all they need to know is how to drive the car, start the engine, and stop it. They do not need to know how the engine works."
   ]
  },
  {
   "cell_type": "markdown",
   "id": "35a99b93-f545-4871-bccc-17d90af323f4",
   "metadata": {},
   "source": [
    "Ques-2)Differentiate between Abstraction and Encapsulation. Explain with an example."
   ]
  },
  {
   "cell_type": "markdown",
   "id": "36e82729-f5f8-4d84-b55d-c74525907a3f",
   "metadata": {},
   "source": [
    "Ans2)Abstraction is the process of hiding the implementation details of an object and exposing only the necessary information to the user. This helps to reduce complexity and improve the maintainability of the code.\n",
    "\n",
    "Encapsulation, on the other hand, refers to the bundling of data and methods that operate on that data within a single unit, or object. It is a way of protecting the data from outside interference and misuse. In encapsulation, the internal representation of an object is hidden from the outside world, and only a public interface, or set of methods, is exposed to interact with the object.\n",
    "\n",
    "For example, consider a bank account object in an OOP program. Abstraction would hide the internal details of the bank account, such as the calculation of the account balance, and only expose the necessary information, such as the account balance and the deposit and withdrawal methods. Encapsulation would protect the account balance by hiding it behind the deposit and withdrawal methods, so that it can only be updated through those methods and not directly modified by other parts of the code."
   ]
  },
  {
   "cell_type": "markdown",
   "id": "b6eae369-9685-4f36-bccd-20b7731a1c38",
   "metadata": {},
   "source": [
    "Ques-3)What is abc module in python? Why is it used?"
   ]
  },
  {
   "cell_type": "markdown",
   "id": "005e094e-8d94-4e90-a47d-461171b23df0",
   "metadata": {},
   "source": [
    "Ans-3)The abc (Abstract Base Class) module in Python is a module that provides the infrastructure for defining abstract base classes (ABCs). An abstract base class is a class that cannot be instantiated but can be subclassed. An ABC provides a common interface for a set of implementations, so that those implementations can be used interchangeably.\n",
    "\n",
    "The main purpose of using ABCs is to define a common interface for a set of related objects. This allows the code to be written in a more flexible and maintainable way, because it can operate on objects that have a common interface, regardless of the specific implementation details of those objects.\n",
    "\n",
    "For example, consider a program that works with different shapes, such as circles, squares, and triangles. One way to define the different shapes is to create a separate class for each shape and define the common methods, such as area and perimeter, in each class. However, this approach can lead to a lot of duplicated code and make the program difficult to maintain."
   ]
  },
  {
   "cell_type": "markdown",
   "id": "06f6ae27-8225-4b46-9bbf-6cec38ef6898",
   "metadata": {},
   "source": [
    "Ques-4)How can we achieve data abstraction?"
   ]
  },
  {
   "cell_type": "markdown",
   "id": "fda74564-9c99-4644-8c9f-80000c91d431",
   "metadata": {},
   "source": [
    "Ans-4)Data abstraction is achieved by hiding the implementation details of an object and exposing only the necessary information to the user. This helps to reduce complexity and improve the maintainability of the code. There are several ways to achieve data abstraction in object-oriented programming:\n",
    "\n",
    "i)Encapsulation: Encapsulation is the bundling of data and methods that operate on that data within a single unit, or object. By encapsulating the data within an object, you can hide its implementation details and expose only a public interface, or set of methods, to interact with the object.\n",
    "\n",
    "ii)Abstract Classes: In object-oriented programming, you can define an abstract class that cannot be instantiated but can be subclassed. An abstract class provides a common interface for a set of implementations and allows the code to be written in a more flexible and maintainable way.\n",
    "\n",
    "iii)Interfaces: An interface is a collection of abstract methods (methods without implementation) that define a common interface for a set of related objects. By defining an interface, you can specify the methods that must be implemented by objects that belong to the interface, without having to define their implementation details.\n",
    "\n",
    "iv)Getters and Setters: Getters and setters are methods that allow you to retrieve or set the value of an object's properties. By using getters and setters, you can hide the implementation details of an object's properties and expose only the necessary information to the user.\n",
    "\n",
    "v)Information Hiding: Information hiding is the process of hiding the implementation details of an object and exposing only the necessary information to the user. This can be achieved by using techniques such as encapsulation, abstract classes, interfaces, and getters and setters"
   ]
  },
  {
   "cell_type": "markdown",
   "id": "e7c897a0-f3ec-444c-86e2-721e1067daac",
   "metadata": {},
   "source": [
    "Ques-5)Can we create an instance of an abstract class? Explain your answer."
   ]
  },
  {
   "cell_type": "markdown",
   "id": "a89c6134-2678-4cc9-8f46-50998b5c4ac2",
   "metadata": {},
   "source": [
    "Ans-5)No, you cannot create an instance of an abstract class. An abstract class is a class that cannot be instantiated, but can be subclassed. The purpose of an abstract class is to provide a common interface for a set of related objects, but not to be used as a concrete object on its own.\n",
    "\n",
    "An abstract class defines the common methods that its subclasses must implement, but it does not provide an implementation for those methods. The subclasses that inherit from the abstract class must provide their own implementation for the abstract methods defined in the abstract class."
   ]
  },
  {
   "cell_type": "code",
   "execution_count": null,
   "id": "42af35ef-66dd-4c39-88eb-d1accd17a298",
   "metadata": {},
   "outputs": [],
   "source": []
  }
 ],
 "metadata": {
  "kernelspec": {
   "display_name": "Python 3 (ipykernel)",
   "language": "python",
   "name": "python3"
  },
  "language_info": {
   "codemirror_mode": {
    "name": "ipython",
    "version": 3
   },
   "file_extension": ".py",
   "mimetype": "text/x-python",
   "name": "python",
   "nbconvert_exporter": "python",
   "pygments_lexer": "ipython3",
   "version": "3.10.8"
  }
 },
 "nbformat": 4,
 "nbformat_minor": 5
}
