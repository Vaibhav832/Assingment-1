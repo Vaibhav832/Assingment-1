{
 "cells": [
  {
   "cell_type": "code",
   "execution_count": 2,
   "id": "089cc3a7-2291-468a-8279-8282b5ac2919",
   "metadata": {},
   "outputs": [
    {
     "data": {
      "text/plain": [
       "'\\nAns-1) Python was created by Guido van Rossum, and first released on February 20, 1991.\\n'"
      ]
     },
     "execution_count": 2,
     "metadata": {},
     "output_type": "execute_result"
    }
   ],
   "source": [
    "\"\"\"\n",
    "Ans-1) Python was created by Guido van Rossum, and first released on February 20, 1991.\n",
    "\"\"\""
   ]
  },
  {
   "cell_type": "code",
   "execution_count": 4,
   "id": "d8fee3ae-27f0-4dc7-a220-d9ebe9788834",
   "metadata": {},
   "outputs": [
    {
     "data": {
      "text/plain": [
       "'\\nAns-2) Object-oriented programming and structured programming are supported by python programming language.\\n'"
      ]
     },
     "execution_count": 4,
     "metadata": {},
     "output_type": "execute_result"
    }
   ],
   "source": [
    "\"\"\"\n",
    "Ans-2) Object-oriented programming and structured programming are supported by python programming language.\n",
    "\"\"\""
   ]
  },
  {
   "cell_type": "code",
   "execution_count": 5,
   "id": "f912efb0-0cfc-4ee5-9c56-4e37650686dd",
   "metadata": {},
   "outputs": [
    {
     "data": {
      "text/plain": [
       "'\\nAns-2) Yes, Python is a case-sensitive language, i.e., it treats uppercase and lowercase characters differently. This applies to identifiers too.\\n'"
      ]
     },
     "execution_count": 5,
     "metadata": {},
     "output_type": "execute_result"
    }
   ],
   "source": [
    "\"\"\"\n",
    "Ans-3) Yes, Python is a case-sensitive language, i.e., it treats uppercase and lowercase characters differently. This applies to identifiers too.\n",
    "\"\"\""
   ]
  },
  {
   "cell_type": "code",
   "execution_count": 6,
   "id": "712518fb-4ab0-4c4d-95c5-ae16ecd79a20",
   "metadata": {},
   "outputs": [
    {
     "data": {
      "text/plain": [
       "'\\nAns-4) .py is correct extension of python.\\n'"
      ]
     },
     "execution_count": 6,
     "metadata": {},
     "output_type": "execute_result"
    }
   ],
   "source": [
    "\"\"\"\n",
    "Ans-4) .py is correct extension of python.\n",
    "\"\"\""
   ]
  },
  {
   "cell_type": "code",
   "execution_count": 8,
   "id": "f02201a2-bbc9-4cb0-b888-06c6478ab0a7",
   "metadata": {},
   "outputs": [
    {
     "data": {
      "text/plain": [
       "'\\nAns-5) Python code is both compiled and interpreted.\\n'"
      ]
     },
     "execution_count": 8,
     "metadata": {},
     "output_type": "execute_result"
    }
   ],
   "source": [
    "\"\"\"\n",
    "Ans-5) Python code is both compiled and interpreted.\n",
    "\"\"\""
   ]
  },
  {
   "cell_type": "code",
   "execution_count": 11,
   "id": "316d069f-83f4-4a04-83a5-d46434835f5d",
   "metadata": {},
   "outputs": [
    {
     "data": {
      "text/plain": [
       "'\\nAns-6) loops(for and while)\\n       conditional statements(if-else)\\n       functions\\n'"
      ]
     },
     "execution_count": 11,
     "metadata": {},
     "output_type": "execute_result"
    }
   ],
   "source": [
    "\"\"\"\n",
    "Ans-6) loops(for and while)\n",
    "       conditional statements(if-else)\n",
    "       functions\n",
    "\"\"\""
   ]
  },
  {
   "cell_type": "code",
   "execution_count": 12,
   "id": "9caf1357-00fa-4a70-9722-976ad94ae00a",
   "metadata": {},
   "outputs": [
    {
     "data": {
      "text/plain": [
       "'\\nAns-7) #(hash character)\\n'"
      ]
     },
     "execution_count": 12,
     "metadata": {},
     "output_type": "execute_result"
    }
   ],
   "source": [
    "\"\"\"\n",
    "Ans-7) #(hash character)\n",
    "\"\"\""
   ]
  },
  {
   "cell_type": "code",
   "execution_count": 15,
   "id": "d48b7c08-219b-4939-aa73-0fb23ff070b5",
   "metadata": {},
   "outputs": [
    {
     "data": {
      "text/plain": [
       "'\\nAns-8) sys.version\\n'"
      ]
     },
     "execution_count": 15,
     "metadata": {},
     "output_type": "execute_result"
    }
   ],
   "source": [
    "\"\"\"\n",
    "Ans-8) sys.version\n",
    "\"\"\""
   ]
  },
  {
   "cell_type": "code",
   "execution_count": 16,
   "id": "26dcce18-7f59-4ff3-a553-965c0d2df3d6",
   "metadata": {},
   "outputs": [
    {
     "data": {
      "text/plain": [
       "'\\nAns-9) lambda\\n'"
      ]
     },
     "execution_count": 16,
     "metadata": {},
     "output_type": "execute_result"
    }
   ],
   "source": [
    "\"\"\"\n",
    "Ans-9) lambda\n",
    "\"\"\""
   ]
  },
  {
   "cell_type": "code",
   "execution_count": 17,
   "id": "b79bf941-453c-454b-824e-0e19116d2680",
   "metadata": {},
   "outputs": [
    {
     "data": {
      "text/plain": [
       "'\\nAns-10) Preferred Installer Program\\n'"
      ]
     },
     "execution_count": 17,
     "metadata": {},
     "output_type": "execute_result"
    }
   ],
   "source": [
    "\"\"\"\n",
    "Ans-10) Preferred Installer Program\n",
    "\"\"\""
   ]
  },
  {
   "cell_type": "code",
   "execution_count": 18,
   "id": "62b9410c-c351-4296-bfcd-20bcb4cfb54a",
   "metadata": {},
   "outputs": [
    {
     "data": {
      "text/plain": [
       "'\\nAns-11) print()\\n    type()\\n    input()\\n    len()\\n    eval()\\n'"
      ]
     },
     "execution_count": 18,
     "metadata": {},
     "output_type": "execute_result"
    }
   ],
   "source": [
    "\"\"\"\n",
    "Ans-11) print()\n",
    "    type()\n",
    "    input()\n",
    "    len()\n",
    "    eval()\n",
    "\"\"\""
   ]
  },
  {
   "cell_type": "code",
   "execution_count": 19,
   "id": "a3aa170c-96d8-4567-b4c7-04c5c3b20748",
   "metadata": {},
   "outputs": [
    {
     "data": {
      "text/plain": [
       "'\\nAns-12) maximum of 79 characters\\n'"
      ]
     },
     "execution_count": 19,
     "metadata": {},
     "output_type": "execute_result"
    }
   ],
   "source": [
    "\"\"\"\n",
    "Ans-12) maximum of 79 characters\n",
    "\"\"\""
   ]
  },
  {
   "cell_type": "code",
   "execution_count": 20,
   "id": "5f9d08ea-9377-47df-907a-7547f6ec4017",
   "metadata": {},
   "outputs": [
    {
     "data": {
      "text/plain": [
       "'\\nAns-13) free and open source\\n    Easy to Read, Learn and Write\\n    Vast Libraries Support\\n    Portability\\n    dynamically typed language\\n'"
      ]
     },
     "execution_count": 20,
     "metadata": {},
     "output_type": "execute_result"
    }
   ],
   "source": [
    "\"\"\"\n",
    "Ans-13) free and open source\n",
    "    Easy to Read, Learn and Write\n",
    "    Vast Libraries Support\n",
    "    Portability\n",
    "    dynamically typed language\n",
    "\"\"\" "
   ]
  },
  {
   "cell_type": "code",
   "execution_count": 21,
   "id": "5c68ce75-8701-4208-8fa3-117d907e5039",
   "metadata": {},
   "outputs": [
    {
     "data": {
      "text/plain": [
       "'\\nAns-14) Memory management in Python involves a private heap containing all Python objects and data structures.\\nThe private heap is managed internally by the Python memory manager.\\n'"
      ]
     },
     "execution_count": 21,
     "metadata": {},
     "output_type": "execute_result"
    }
   ],
   "source": [
    "\"\"\"\n",
    "Ans-14) Memory management in Python involves a private heap containing all Python objects and data structures.\n",
    "The private heap is managed internally by the Python memory manager.\n",
    "\"\"\""
   ]
  },
  {
   "cell_type": "code",
   "execution_count": 22,
   "id": "2ea6bc11-dda5-403d-95c6-8159e165a5f4",
   "metadata": {},
   "outputs": [
    {
     "data": {
      "text/plain": [
       "'\\nAns-15) go to browser write python download ,click python download and dowloading starts\\n     after download go to the download folder and click on and install it.\\n     after installation go to cmd and write python -v if python version comes then python is installed in your computer.\\n     if version is not come then you have to set the path variable.\\n     click on start button and type environment.\\n     click on bottom right environment variable.\\n     go to user variable and path variable and click on it.\\n     click on new and copy the python path where you python is installed.\\n     click ok \\n'"
      ]
     },
     "execution_count": 22,
     "metadata": {},
     "output_type": "execute_result"
    }
   ],
   "source": [
    "\"\"\"\n",
    "Ans-15) go to browser write python download ,click python download and dowloading starts\n",
    "     after download go to the download folder and click on and install it.\n",
    "     after installation go to cmd and write python -v if python version comes then python is installed in your computer.\n",
    "     if version is not come then you have to set the path variable.\n",
    "     click on start button and type environment.\n",
    "     click on bottom right environment variable.\n",
    "     go to user variable and path variable and click on it.\n",
    "     click on new and copy the python path where you python is installed.\n",
    "     click ok \n",
    "\"\"\""
   ]
  },
  {
   "cell_type": "code",
   "execution_count": 23,
   "id": "7f503105-cd6d-4a72-9cee-aa79f1e86301",
   "metadata": {},
   "outputs": [
    {
     "data": {
      "text/plain": [
       "'\\nAns-16) Indentation is mandatory in python to define the blocks of statements.\\nIt is preferred to use whitespaces to indent in python.\\nwhile other programming language such as C and Java uses curly braces.\\n'"
      ]
     },
     "execution_count": 23,
     "metadata": {},
     "output_type": "execute_result"
    }
   ],
   "source": [
    "\"\"\"\n",
    "Ans-16) Indentation is mandatory in python to define the blocks of statements.\n",
    "It is preferred to use whitespaces to indent in python.\n",
    "while other programming language such as C and Java uses curly braces.\n",
    "\"\"\""
   ]
  }
 ],
 "metadata": {
  "kernelspec": {
   "display_name": "Python 3 (ipykernel)",
   "language": "python",
   "name": "python3"
  },
  "language_info": {
   "codemirror_mode": {
    "name": "ipython",
    "version": 3
   },
   "file_extension": ".py",
   "mimetype": "text/x-python",
   "name": "python",
   "nbconvert_exporter": "python",
   "pygments_lexer": "ipython3",
   "version": "3.10.8"
  }
 },
 "nbformat": 4,
 "nbformat_minor": 5
}
