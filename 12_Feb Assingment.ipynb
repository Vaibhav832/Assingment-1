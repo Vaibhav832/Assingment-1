{
 "cells": [
  {
   "cell_type": "markdown",
   "metadata": {},
   "source": [
    "Ans-1) An exception in Python is an event, which occurs during the execution of a program that disrupts the normal flow of the program's instructions. Exceptions are raised when a program encounters a runtime error, such as division by zero, accessing an index that is out of range, or trying to open a file that does not exist.\n",
    "\n",
    "Exceptions and syntax errors are two different types of errors in Python.\n",
    "\n",
    "A syntax error occurs when the code written is not valid according to the syntax rules of the language. For example, if you forget to close a parenthesis, or if you use the wrong type of quotes in a string, Python will raise a syntax error. These errors are usually easy to spot and fix, as they prevent the code from running.\n",
    "\n",
    "An exception, on the other hand, occurs when the code is syntactically correct but encounters an error during execution. Unlike syntax errors, exceptions can be caught and handled using try-except blocks. This allows you to write code that can gracefully handle runtime errors, making your code more robust and user-friendly."
   ]
  },
  {
   "cell_type": "markdown",
   "metadata": {},
   "source": [
    "Ans-2) When an exception is not handled, the program will stop executing immediately and raise an unhandled exception. The traceback of the error will be displayed, showing the line of code that caused the exception and the type of the exception.\n"
   ]
  },
  {
   "cell_type": "code",
   "execution_count": 2,
   "metadata": {},
   "outputs": [
    {
     "name": "stdout",
     "output_type": "stream",
     "text": [
      "25.0\n",
      "Cannot divide by zero\n"
     ]
    }
   ],
   "source": [
    "def divide(a, b):\n",
    "    try:\n",
    "        return a / b\n",
    "    except ZeroDivisionError:\n",
    "        return \"Cannot divide by zero\"\n",
    "\n",
    "print(divide(50, 2))\n",
    "print(divide(5, 0))"
   ]
  },
  {
   "cell_type": "markdown",
   "metadata": {},
   "source": [
    "Ans-3) In Python, the try and except statements are used to catch and handle exceptions. \n",
    "For example, consider the following code:"
   ]
  },
  {
   "cell_type": "code",
   "execution_count": 3,
   "metadata": {},
   "outputs": [
    {
     "name": "stdout",
     "output_type": "stream",
     "text": [
      "25.0\n",
      "Cannot divide by zero\n"
     ]
    }
   ],
   "source": [
    "def divide(a, b):\n",
    "    try:\n",
    "        return a / b\n",
    "    except ZeroDivisionError:\n",
    "        return \"Cannot divide by zero\"\n",
    "\n",
    "print(divide(50, 2))\n",
    "print(divide(5, 0))"
   ]
  },
  {
   "cell_type": "code",
   "execution_count": 4,
   "metadata": {},
   "outputs": [
    {
     "name": "stdout",
     "output_type": "stream",
     "text": [
      "2.5\n",
      "Cannot divide by zero\n",
      "The operation has completed.\n",
      "2.5\n",
      "The operation has completed.\n",
      "Cannot divide by zero\n",
      "5\n"
     ]
    },
    {
     "ename": "ValueError",
     "evalue": "The value is negative",
     "output_type": "error",
     "traceback": [
      "\u001b[0;31m---------------------------------------------------------------------------\u001b[0m",
      "\u001b[0;31mValueError\u001b[0m                                Traceback (most recent call last)",
      "Cell \u001b[0;32mIn[4], line 40\u001b[0m\n\u001b[1;32m     37\u001b[0m     \u001b[38;5;28;01mreturn\u001b[39;00m n\n\u001b[1;32m     39\u001b[0m \u001b[38;5;28mprint\u001b[39m(positive_number(\u001b[38;5;241m5\u001b[39m))\n\u001b[0;32m---> 40\u001b[0m \u001b[38;5;28mprint\u001b[39m(\u001b[43mpositive_number\u001b[49m\u001b[43m(\u001b[49m\u001b[38;5;241;43m-\u001b[39;49m\u001b[38;5;241;43m5\u001b[39;49m\u001b[43m)\u001b[49m)\n",
      "Cell \u001b[0;32mIn[4], line 36\u001b[0m, in \u001b[0;36mpositive_number\u001b[0;34m(n)\u001b[0m\n\u001b[1;32m     34\u001b[0m \u001b[38;5;28;01mdef\u001b[39;00m \u001b[38;5;21mpositive_number\u001b[39m(n):\n\u001b[1;32m     35\u001b[0m     \u001b[38;5;28;01mif\u001b[39;00m n \u001b[38;5;241m<\u001b[39m \u001b[38;5;241m0\u001b[39m:\n\u001b[0;32m---> 36\u001b[0m         \u001b[38;5;28;01mraise\u001b[39;00m \u001b[38;5;167;01mValueError\u001b[39;00m(\u001b[38;5;124m\"\u001b[39m\u001b[38;5;124mThe value is negative\u001b[39m\u001b[38;5;124m\"\u001b[39m)\n\u001b[1;32m     37\u001b[0m     \u001b[38;5;28;01mreturn\u001b[39;00m n\n",
      "\u001b[0;31mValueError\u001b[0m: The value is negative"
     ]
    }
   ],
   "source": [
    "\"\"\"\n",
    "Ans-4) (a) We can use the try, except, else, and finally statements to handle exceptions. The try and except statements work as described in the previous answer, but the else and finally statements provide additional functionality.\n",
    "\n",
    "The else block is executed if no exception is raised in the try block. For example:\n",
    "\"\"\"\n",
    "def divide(a, b):\n",
    "    try:\n",
    "        result = a / b\n",
    "    except ZeroDivisionError:\n",
    "        return \"Cannot divide by zero\"\n",
    "    else:\n",
    "        return result\n",
    "\n",
    "print(divide(5, 2))\n",
    "print(divide(5, 0))\n",
    "\"\"\"\n",
    "(b) The finally block is executed regardless of whether an exception was raised or not. For example:\n",
    "\"\"\"\n",
    "def divide(a, b):\n",
    "    try:\n",
    "        result = a / b\n",
    "    except ZeroDivisionError:\n",
    "        return \"Cannot divide by zero\"\n",
    "    else:\n",
    "        return result\n",
    "    finally:\n",
    "        print(\"The operation has completed.\")\n",
    "\n",
    "print(divide(5, 2))\n",
    "print(divide(5, 0))\n",
    "\"\"\"\n",
    "(c) We can raise an exception using the raise statement. This allows you to signal that an error has occurred and stop the normal execution of your program. For example:\n",
    "\"\"\"\n",
    "def positive_number(n):\n",
    "    if n < 0:\n",
    "        raise ValueError(\"The value is negative\")\n",
    "    return n\n",
    "\n",
    "print(positive_number(5))\n",
    "print(positive_number(-5))"
   ]
  },
  {
   "cell_type": "markdown",
   "metadata": {},
   "source": [
    "Ans-5) Custom exceptions are user-defined exceptions that can be raised and caught just like built-in exceptions. Custom exceptions allow us to indicate specific error conditions that are relevant to your application and provide more meaningful error messages to help diagnose and fix issues.\n",
    "\n",
    "For example, consider a scenario where you have a function that accepts a user's age and only allows users who are over 18 years old. You can create a custom exception to raise if a user tries to enter an age less than 18:"
   ]
  },
  {
   "cell_type": "code",
   "execution_count": 5,
   "metadata": {},
   "outputs": [
    {
     "ename": "UnderAgeError",
     "evalue": "You must be at least 18 years old to use this service",
     "output_type": "error",
     "traceback": [
      "\u001b[0;31m---------------------------------------------------------------------------\u001b[0m",
      "\u001b[0;31mUnderAgeError\u001b[0m                             Traceback (most recent call last)",
      "Cell \u001b[0;32mIn[5], line 9\u001b[0m\n\u001b[1;32m      6\u001b[0m         \u001b[38;5;28;01mraise\u001b[39;00m UnderAgeError(\u001b[38;5;124m\"\u001b[39m\u001b[38;5;124mYou must be at least 18 years old to use this service\u001b[39m\u001b[38;5;124m\"\u001b[39m)\n\u001b[1;32m      7\u001b[0m     \u001b[38;5;28mprint\u001b[39m(\u001b[38;5;124m\"\u001b[39m\u001b[38;5;124mWelcome!\u001b[39m\u001b[38;5;124m\"\u001b[39m)\n\u001b[0;32m----> 9\u001b[0m \u001b[43mcheck_age\u001b[49m\u001b[43m(\u001b[49m\u001b[38;5;241;43m17\u001b[39;49m\u001b[43m)\u001b[49m\n",
      "Cell \u001b[0;32mIn[5], line 6\u001b[0m, in \u001b[0;36mcheck_age\u001b[0;34m(age)\u001b[0m\n\u001b[1;32m      4\u001b[0m \u001b[38;5;28;01mdef\u001b[39;00m \u001b[38;5;21mcheck_age\u001b[39m(age):\n\u001b[1;32m      5\u001b[0m     \u001b[38;5;28;01mif\u001b[39;00m age \u001b[38;5;241m<\u001b[39m \u001b[38;5;241m18\u001b[39m:\n\u001b[0;32m----> 6\u001b[0m         \u001b[38;5;28;01mraise\u001b[39;00m UnderAgeError(\u001b[38;5;124m\"\u001b[39m\u001b[38;5;124mYou must be at least 18 years old to use this service\u001b[39m\u001b[38;5;124m\"\u001b[39m)\n\u001b[1;32m      7\u001b[0m     \u001b[38;5;28mprint\u001b[39m(\u001b[38;5;124m\"\u001b[39m\u001b[38;5;124mWelcome!\u001b[39m\u001b[38;5;124m\"\u001b[39m)\n",
      "\u001b[0;31mUnderAgeError\u001b[0m: You must be at least 18 years old to use this service"
     ]
    }
   ],
   "source": [
    "class UnderAgeError(Exception):\n",
    "    pass\n",
    "\n",
    "def check_age(age):\n",
    "    if age < 18:\n",
    "        raise UnderAgeError(\"You must be at least 18 years old to use this service\")\n",
    "    print(\"Welcome!\")\n",
    "\n",
    "check_age(17)"
   ]
  },
  {
   "cell_type": "code",
   "execution_count": 6,
   "metadata": {},
   "outputs": [
    {
     "name": "stdout",
     "output_type": "stream",
     "text": [
      "Caught custom exception: This is a custom exception\n"
     ]
    }
   ],
   "source": [
    "#Ans-6)\n",
    "class CustomException(Exception):\n",
    "    def __init__(self, message):\n",
    "        self.message = message\n",
    "\n",
    "try:\n",
    "    raise CustomException(\"This is a custom exception\")\n",
    "except CustomException as e:\n",
    "    print(f\"Caught custom exception: {e.message}\")"
   ]
  },
  {
   "cell_type": "code",
   "execution_count": null,
   "metadata": {},
   "outputs": [],
   "source": []
  }
 ],
 "metadata": {
  "kernelspec": {
   "display_name": "Python 3 (ipykernel)",
   "language": "python",
   "name": "python3"
  },
  "language_info": {
   "codemirror_mode": {
    "name": "ipython",
    "version": 3
   },
   "file_extension": ".py",
   "mimetype": "text/x-python",
   "name": "python",
   "nbconvert_exporter": "python",
   "pygments_lexer": "ipython3",
   "version": "3.10.8"
  },
  "vscode": {
   "interpreter": {
    "hash": "af3d4b4a9b36c42385c65ba6cde76bc0fbbfb198037448cb630978b484747b49"
   }
  }
 },
 "nbformat": 4,
 "nbformat_minor": 4
}
