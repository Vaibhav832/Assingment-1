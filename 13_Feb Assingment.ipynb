{
 "cells": [
  {
   "cell_type": "markdown",
   "metadata": {},
   "source": [
    "Q1. Explain why we have to use the Exception class while creating a Custom Exception.\n",
    "Note: Here Exception class refers to the base class for all the exceptions."
   ]
  },
  {
   "cell_type": "markdown",
   "metadata": {},
   "source": [
    "Ans-1)The reason for using the Exception class as the base class is that it provides a set of methods and properties that are common to all exceptions, such as the ability to set an error message and retrieve the traceback information. By inheriting from the Exception class, we can leverage these methods and properties and customize our exception as per our requirement."
   ]
  },
  {
   "attachments": {},
   "cell_type": "markdown",
   "metadata": {},
   "source": [
    "Q2. Write a python program to print Python Exception Hierarchy."
   ]
  },
  {
   "cell_type": "code",
   "execution_count": 1,
   "metadata": {},
   "outputs": [],
   "source": [
    "import logging"
   ]
  },
  {
   "cell_type": "code",
   "execution_count": 3,
   "metadata": {},
   "outputs": [],
   "source": [
    "logging.basicConfig(filename='test.log', level=logging.DEBUG, format='%(asctime)s:%(levelname)s:%(message)s')\n",
    "class PythonExceptionHierarchy:\n",
    "    def print_hierarchy(self, exception_class=Exception, level=0):\n",
    "        logging.info(\"  \" * level + exception_class.__name__)\n",
    "        for subclass in exception_class.__subclasses__():\n",
    "            self.print_hierarchy(subclass, level + 1)\n",
    "\n",
    "if __name__ == '__main__':\n",
    "    hierarchy = PythonExceptionHierarchy()\n",
    "    hierarchy.print_hierarchy()"
   ]
  },
  {
   "cell_type": "markdown",
   "metadata": {},
   "source": [
    "Q3. What errors are defined in the ArithmeticError class? Explain any two with an example."
   ]
  },
  {
   "cell_type": "code",
   "execution_count": 4,
   "metadata": {},
   "outputs": [],
   "source": [
    "\"\"\"\n",
    "The ArithmeticError class is a base class for errors that occur during arithmetic operations. It is a subclass of the Exception class and is used as a base class for more specific arithmetic errors, such as ZeroDivisionError and OverflowError.\n",
    "\n",
    "Here are two examples of specific errors that are defined in the ArithmeticError class:\n",
    "\n",
    "1. ZeroDivisionError: This error occurs when we try to divide a number by zero. For example:\n",
    "\"\"\"\n",
    "try:\n",
    "    a = 10\n",
    "    b = 0\n",
    "    c = a / b  # raises ZeroDivisionError\n",
    "except ZeroDivisionError:\n",
    "    logging.error(\"Division by zero is not allowed\")\n",
    "\"\"\"\n",
    "2. OverflowError: This error occurs when a calculation exceeds the maximum representable value for a numeric type. For example:\n",
    "\"\"\"\n",
    "try:\n",
    "    import math\n",
    "\n",
    "    a = math.exp(1000)  # raises OverflowError\n",
    "except OverflowError:\n",
    "    logging.error(\"The calculation exceeded the maximum representable value\")"
   ]
  },
  {
   "cell_type": "markdown",
   "metadata": {},
   "source": [
    "Q4. Why LookupError class is used? Explain with an example KeyError and IndexError."
   ]
  },
  {
   "cell_type": "code",
   "execution_count": 5,
   "metadata": {},
   "outputs": [],
   "source": [
    "\"\"\"\n",
    "The LookupError class is a base class for errors that occur when a key or index is not found in a mapping or sequence, respectively. It is a subclass of the Exception class and is used as a base class for more specific lookup errors, such as KeyError and IndexError.\n",
    "\n",
    "Here are two examples of specific errors that are defined in the LookupError class:\n",
    "\n",
    "KeyError: This error occurs when you try to access a non-existent key in a dictionary. For example:\n",
    "\"\"\"\n",
    "try:\n",
    "    d = {'a': 1, 'b': 2}\n",
    "    value = d['c']  # raises KeyError\n",
    "except KeyError:\n",
    "    logging.error(\"The key does not exist\")\n",
    "\"\"\"\n",
    "IndexError: This error occurs when you try to access an index that is out of range in a sequence such as a list or a tuple. For example:\n",
    "\"\"\"\n",
    "try:\n",
    "    l = [1, 2, 3]\n",
    "    value = l[3]  # raises IndexError\n",
    "except IndexError:\n",
    "    logging.error(\"The index is out of range\")"
   ]
  },
  {
   "cell_type": "markdown",
   "metadata": {},
   "source": [
    "Q5. Explain ImportError. What is ModuleNotFoundError?"
   ]
  },
  {
   "cell_type": "code",
   "execution_count": 6,
   "metadata": {},
   "outputs": [],
   "source": [
    "\"\"\"\n",
    "ImportError is a Python exception that occurs when a module or package could not be imported. This can happen for various reasons, such as a misspelled module name, a missing or broken module file, or an error in the module code.\n",
    "\n",
    "Here is an example of an ImportError:\n",
    "\"\"\"\n",
    "try:\n",
    "    import some_module\n",
    "except ImportError:\n",
    "    logging.error(\"The module could not be imported.\")\n",
    "\"\"\"\n",
    "ModuleNotFoundError is a more specific type of ImportError that was introduced in Python 3.6. It is raised when a module could not be found at import time, indicating that the specified module does not exist or is not installed.\n",
    "\n",
    "Here is an example of a ModuleNotFoundError:\n",
    "\"\"\"\n",
    "try:\n",
    "    import non_existent_module\n",
    "except ModuleNotFoundError:\n",
    "    logging.error(\"The specified module could not be found.\")"
   ]
  },
  {
   "attachments": {},
   "cell_type": "markdown",
   "metadata": {},
   "source": [
    "Q6. List down some best practices for exception handling in python."
   ]
  },
  {
   "cell_type": "markdown",
   "metadata": {},
   "source": [
    "Ans-6) Here are some best practices for exception handling in Python:\n",
    "\n",
    "1.Handle specific exceptions\n",
    "2.Use try-except blocks sparingly\n",
    "3.Avoid catching and ignoring exceptions\n",
    "4.Keep error messages informative\n",
    "5.Reraise exceptions selectively\n",
    "6.Clean up after exceptions\n",
    "7.Use context managers"
   ]
  },
  {
   "cell_type": "raw",
   "metadata": {},
   "source": []
  }
 ],
 "metadata": {
  "kernelspec": {
   "display_name": "Python 3",
   "language": "python",
   "name": "python3"
  },
  "language_info": {
   "codemirror_mode": {
    "name": "ipython",
    "version": 3
   },
   "file_extension": ".py",
   "mimetype": "text/x-python",
   "name": "python",
   "nbconvert_exporter": "python",
   "pygments_lexer": "ipython3",
   "version": "3.10.5"
  },
  "orig_nbformat": 4,
  "vscode": {
   "interpreter": {
    "hash": "af3d4b4a9b36c42385c65ba6cde76bc0fbbfb198037448cb630978b484747b49"
   }
  }
 },
 "nbformat": 4,
 "nbformat_minor": 2
}
