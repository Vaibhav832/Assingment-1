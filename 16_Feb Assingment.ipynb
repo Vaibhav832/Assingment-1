{
 "cells": [
  {
   "cell_type": "markdown",
   "metadata": {},
   "source": [
    "Q1. What is a database? Differentiate between SQL and NoSQL databases."
   ]
  },
  {
   "attachments": {},
   "cell_type": "markdown",
   "metadata": {},
   "source": [
    "A database is a structured collection of data that is stored in a computer system. It is designed to efficiently manage, store, and retrieve data for various purposes, such as storing customer information, financial data, product inventory, or any other data that needs to be organized and easily accessible.\n",
    "\n",
    "There are two main types of databases: SQL and NoSQL databases.\n",
    "\n",
    "One of the main differences between SQL and NoSQL databases is the way they handle data relationships. SQL databases use tables and define relationships between tables using foreign keys, while NoSQL databases allow for more flexible data models and can store related data in a single document or record."
   ]
  },
  {
   "attachments": {},
   "cell_type": "markdown",
   "metadata": {},
   "source": [
    "Q2. What is DDL? Explain why CREATE, DROP, ALTER, and TRUNCATE are used with an example."
   ]
  },
  {
   "attachments": {},
   "cell_type": "markdown",
   "metadata": {},
   "source": [
    "DDL stands for Data Definition Language, which is a type of SQL command used to define the structure and layout of a database. It is a subset of SQL and is used to create, modify and delete the database schema and its objects such as tables, views, indexes, sequences, etc.\n",
    "\n",
    "Some common DDL commands are:\n",
    "\n",
    "1. CREATE: Used to create a new database or its objects such as tables, views, indexes, and sequences. For example, to create a new table named \"customers\" with columns \"customer_id\", \"first_name\", and \"last_name\", we would use the following command:"
   ]
  },
  {
   "cell_type": "code",
   "execution_count": null,
   "metadata": {
    "vscode": {
     "languageId": "sql"
    }
   },
   "outputs": [],
   "source": [
    "CREATE TABLE customers (\n",
    "   customer_id INT PRIMARY KEY,\n",
    "   first_name VARCHAR(50),\n",
    "   last_name VARCHAR(50)\n",
    ");"
   ]
  },
  {
   "attachments": {},
   "cell_type": "markdown",
   "metadata": {},
   "source": [
    "2. DROP: Used to remove an existing database or its objects such as tables, views, indexes, and sequences. For example, to drop the \"customers\" table that we created earlier, we would use the following command:"
   ]
  },
  {
   "cell_type": "code",
   "execution_count": null,
   "metadata": {
    "vscode": {
     "languageId": "sql"
    }
   },
   "outputs": [],
   "source": [
    "DROP TABLE customers;"
   ]
  },
  {
   "attachments": {},
   "cell_type": "markdown",
   "metadata": {},
   "source": [
    "3. ALTER: Used to modify the structure of an existing database or its objects such as tables, views, indexes, and sequences. For example, to add a new column named \"email\" to the \"customers\" table that we created earlier, we would use the following command:"
   ]
  },
  {
   "cell_type": "code",
   "execution_count": null,
   "metadata": {
    "vscode": {
     "languageId": "sql"
    }
   },
   "outputs": [],
   "source": [
    "ALTER TABLE customers ADD email VARCHAR(100);\n"
   ]
  },
  {
   "attachments": {},
   "cell_type": "markdown",
   "metadata": {},
   "source": [
    "4. TRUNCATE: Used to remove all data from a table without removing the table structure itself. For example, to remove all the data from the \"customers\" table that we created earlier, we would use the following command:"
   ]
  },
  {
   "cell_type": "code",
   "execution_count": null,
   "metadata": {
    "vscode": {
     "languageId": "sql"
    }
   },
   "outputs": [],
   "source": [
    "TRUNCATE TABLE customers;\n"
   ]
  },
  {
   "attachments": {},
   "cell_type": "markdown",
   "metadata": {},
   "source": [
    "Q3. What is DML? Explain INSERT, UPDATE, and DELETE with an example."
   ]
  },
  {
   "attachments": {},
   "cell_type": "markdown",
   "metadata": {},
   "source": [
    "DML stands for Data Manipulation Language, which is a subset of SQL (Structured Query Language) used to manipulate the data in a database. DML statements are used to add, modify, and delete data in the tables of a database.\n",
    "\n",
    "1. INSERT: This statement is used to insert new data into a table. Here's an example of how to use the INSERT statement:"
   ]
  },
  {
   "cell_type": "code",
   "execution_count": null,
   "metadata": {
    "vscode": {
     "languageId": "sql"
    }
   },
   "outputs": [],
   "source": [
    "INSERT INTO customers (customer_id, first_name, last_name) VALUES (101, 'Vaibhav', 'Srivastava');\n"
   ]
  },
  {
   "attachments": {},
   "cell_type": "markdown",
   "metadata": {},
   "source": [
    "2. UPDATE: This statement is used to modify existing data in a table. Here's an example of how to use the UPDATE statement:"
   ]
  },
  {
   "cell_type": "code",
   "execution_count": null,
   "metadata": {
    "vscode": {
     "languageId": "sql"
    }
   },
   "outputs": [],
   "source": [
    "UPDATE customers SET first_name = 'Thunder' WHERE customer_id = 101;"
   ]
  },
  {
   "attachments": {},
   "cell_type": "markdown",
   "metadata": {},
   "source": [
    "3. DELETE: This statement is used to delete existing data from a table. Here's an example of how to use the DELETE statement:"
   ]
  },
  {
   "cell_type": "code",
   "execution_count": null,
   "metadata": {
    "vscode": {
     "languageId": "sql"
    }
   },
   "outputs": [],
   "source": [
    "DELETE FROM customers WHERE customer_id = 101;\n"
   ]
  },
  {
   "attachments": {},
   "cell_type": "markdown",
   "metadata": {},
   "source": [
    "Q4. What is DQL? Explain SELECT with an example."
   ]
  },
  {
   "attachments": {},
   "cell_type": "markdown",
   "metadata": {},
   "source": [
    "DQL stands for Data Query Language, which is a subset of SQL (Structured Query Language) used to retrieve data from a database. DQL statements are used to query a database and retrieve the information stored in the tables.\n",
    "\n",
    "The main DQL statement is SELECT, which is used to retrieve data from one or more tables in a database. Here's an example of how to use the SELECT statement:"
   ]
  },
  {
   "cell_type": "code",
   "execution_count": null,
   "metadata": {
    "vscode": {
     "languageId": "sql"
    }
   },
   "outputs": [],
   "source": [
    "SELECT * FROM customers;"
   ]
  },
  {
   "attachments": {},
   "cell_type": "markdown",
   "metadata": {},
   "source": [
    "Q5. Explain Primary Key and Foreign Key."
   ]
  },
  {
   "attachments": {},
   "cell_type": "markdown",
   "metadata": {},
   "source": [
    "A primary key and foreign key are two types of constraints in a relational database that help to define the relationships between tables.\n",
    "\n",
    "1. Primary Key:\n",
    "A primary key is a column or set of columns in a table that uniquely identifies each row in that table. The primary key constraint ensures that the values in the column(s) are unique and cannot be null. The primary key is used to create relationships between tables and is used as a reference by foreign keys in other tables. For example, in a table of customers, the customer ID might be the primary key, as each customer would have a unique ID.\n",
    "\n",
    "2. Foreign Key:\n",
    "A foreign key is a column or set of columns in one table that refers to the primary key in another table. It is used to establish a relationship between two tables. The foreign key constraint ensures that the values in the column(s) must exist in the referenced primary key column of another table, or must be null. For example, in a table of orders, there might be a foreign key that refers to the primary key of the customers table, indicating which customer placed the order."
   ]
  },
  {
   "attachments": {},
   "cell_type": "markdown",
   "metadata": {},
   "source": [
    "Q6. Write a python code to connect MySQL to python. Explain the cursor() and execute() method."
   ]
  },
  {
   "cell_type": "code",
   "execution_count": 8,
   "metadata": {},
   "outputs": [
    {
     "name": "stdout",
     "output_type": "stream",
     "text": [
      "(1, 'English', datetime.datetime(2006, 2, 15, 5, 2, 19))\n",
      "(2, 'Italian', datetime.datetime(2006, 2, 15, 5, 2, 19))\n",
      "(3, 'Japanese', datetime.datetime(2006, 2, 15, 5, 2, 19))\n",
      "(4, 'Mandarin', datetime.datetime(2006, 2, 15, 5, 2, 19))\n",
      "(5, 'French', datetime.datetime(2006, 2, 15, 5, 2, 19))\n",
      "(6, 'German', datetime.datetime(2006, 2, 15, 5, 2, 19))\n"
     ]
    }
   ],
   "source": [
    "import mysql.connector\n",
    "\n",
    "# Establish a connection to the database\n",
    "mydb = mysql.connector.connect(\n",
    "  host=\"localhost\",\n",
    "  user=\"root\",\n",
    "  password=\"vaibhav\",\n",
    "  database=\"sakila\"\n",
    ")\n",
    "\n",
    "# Create a cursor object to execute queries\n",
    "mycursor = mydb.cursor()\n",
    "\n",
    "# Execute a query\n",
    "mycursor.execute(\"SELECT * FROM language\")\n",
    "\n",
    "# Fetch the results\n",
    "results = mycursor.fetchall()\n",
    "\n",
    "# Print the results\n",
    "for row in results:\n",
    "  print(row)"
   ]
  },
  {
   "attachments": {},
   "cell_type": "markdown",
   "metadata": {},
   "source": [
    "Q7. Give the order of execution of SQL clauses in an SQL query."
   ]
  },
  {
   "attachments": {},
   "cell_type": "markdown",
   "metadata": {},
   "source": [
    "The order of execution of SQL clauses in an SQL query can be summarized as follows:\n",
    "\n",
    "1. FROM: The FROM clause specifies the table or tables from which data is being retrieved.\n",
    "\n",
    "2. JOIN: The JOIN clause is used to combine rows from two or more tables based on a related column between them.\n",
    "\n",
    "3. WHERE: The WHERE clause is used to filter rows based on a specified condition.\n",
    "\n",
    "4. GROUP BY: The GROUP BY clause is used to group rows that have the same values into summary rows.\n",
    "\n",
    "5. HAVING: The HAVING clause is used to filter the groups that are created by the GROUP BY clause.\n",
    "\n",
    "6. SELECT: The SELECT clause is used to select specific columns or expressions from the tables.\n",
    "\n",
    "7. DISTINCT: The DISTINCT keyword is used to remove duplicates from the result set.\n",
    "\n",
    "8. ORDER BY: The ORDER BY clause is used to sort the result set based on one or more columns.\n",
    "\n",
    "9. LIMIT: The LIMIT clause is used to limit the number of rows returned by the query."
   ]
  }
 ],
 "metadata": {
  "kernelspec": {
   "display_name": "Python 3",
   "language": "python",
   "name": "python3"
  },
  "language_info": {
   "codemirror_mode": {
    "name": "ipython",
    "version": 3
   },
   "file_extension": ".py",
   "mimetype": "text/x-python",
   "name": "python",
   "nbconvert_exporter": "python",
   "pygments_lexer": "ipython3",
   "version": "3.10.5"
  },
  "orig_nbformat": 4,
  "vscode": {
   "interpreter": {
    "hash": "af3d4b4a9b36c42385c65ba6cde76bc0fbbfb198037448cb630978b484747b49"
   }
  }
 },
 "nbformat": 4,
 "nbformat_minor": 2
}
