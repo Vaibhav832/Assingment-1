{
 "cells": [
  {
   "cell_type": "markdown",
   "id": "52a23d85-95b9-4a2a-a7bc-e249df2a4c81",
   "metadata": {},
   "source": [
    "Q1. Create a vehicle class with an init method having instance variables as name_of_vehicle, max_speed\n",
    "and average_of_vehicle."
   ]
  },
  {
   "cell_type": "code",
   "execution_count": 4,
   "id": "638baa33-59f8-4e96-8638-03a0f4da15f5",
   "metadata": {},
   "outputs": [
    {
     "name": "stdout",
     "output_type": "stream",
     "text": [
      "Car\n",
      "120\n",
      "30\n"
     ]
    }
   ],
   "source": [
    "class Vehicle:\n",
    "    def __init__(self, name_of_vehicle, max_speed, average_of_vehicle):\n",
    "        self.name_of_vehicle = name_of_vehicle\n",
    "        self.max_speed = max_speed\n",
    "        self.average_of_vehicle = average_of_vehicle\n",
    "        \n",
    "my_vehicle = Vehicle(\"Car\", 120, 30)\n",
    "print(my_vehicle.name_of_vehicle)\n",
    "print(my_vehicle.max_speed)\n",
    "print(my_vehicle.average_of_vehicle)"
   ]
  },
  {
   "cell_type": "markdown",
   "id": "229850c1-9602-4d0c-b8d9-c9f37b3f6e4f",
   "metadata": {},
   "source": [
    "Q2. Create a child class car from the vehicle class created in Que 1, which will inherit the vehicle class.\n",
    "Create a method named seating_capacity which takes capacity as an argument and returns the name of\n",
    "the vehicle and its seating capacity."
   ]
  },
  {
   "cell_type": "code",
   "execution_count": 11,
   "id": "abcba6ba-5138-4438-a21a-c2ff29905c88",
   "metadata": {},
   "outputs": [
    {
     "data": {
      "text/plain": [
       "'Maruti has a seating capacity of 4 passengers.'"
      ]
     },
     "execution_count": 11,
     "metadata": {},
     "output_type": "execute_result"
    }
   ],
   "source": [
    "class Car(Vehicle):\n",
    "    def seating_capacity(self, capacity):\n",
    "        return f\"{self.name_of_vehicle} has a seating capacity of {capacity} passengers.\"\n",
    "obj_car=Car(\"Maruti\",110,80)\n",
    "obj_car.seating_capacity(4)"
   ]
  },
  {
   "cell_type": "markdown",
   "id": "55af26e5-4e2b-4bec-b004-23d888ca743b",
   "metadata": {},
   "source": [
    "Q3. What is multiple inheritance? Write a python code to demonstrate multiple inheritance."
   ]
  },
  {
   "cell_type": "raw",
   "id": "1fb6fecf-6828-40e0-890b-ab59c475cf41",
   "metadata": {},
   "source": [
    "Multiple inheritance is a feature in object-oriented programming languages that allows a class to inherit properties and methods from more than one parent class. This means that a class can have multiple superclasses, each of which contributes attributes and behaviors to the subclass.\n",
    "\n",
    "Here's an example of multiple inheritance in Python:"
   ]
  },
  {
   "cell_type": "code",
   "execution_count": 12,
   "id": "31704a0c-39d0-4b36-8b65-f19aa618f25e",
   "metadata": {},
   "outputs": [
    {
     "name": "stdout",
     "output_type": "stream",
     "text": [
      "Method 1 from Parent 1\n",
      "Method 2 from Parent 2\n"
     ]
    }
   ],
   "source": [
    "class Parent1:\n",
    "    def method1(self):\n",
    "        print(\"Method 1 from Parent 1\")\n",
    "\n",
    "class Parent2:\n",
    "    def method2(self):\n",
    "        print(\"Method 2 from Parent 2\")\n",
    "\n",
    "class Child(Parent1, Parent2):\n",
    "    pass\n",
    "\n",
    "c = Child()\n",
    "c.method1()\n",
    "c.method2()"
   ]
  },
  {
   "cell_type": "markdown",
   "id": "f9c72786-3f55-4c83-b52e-081f177e19a8",
   "metadata": {},
   "source": [
    "Q4. What are getter and setter in python? Create a class and create a getter and a setter method in this\n",
    "class."
   ]
  },
  {
   "cell_type": "raw",
   "id": "c61974bf-a3ce-43db-b04e-72bd84957b3f",
   "metadata": {},
   "source": [
    "Getter and setter methods in Python are used to access and modify the values of the instance variables of a class. Getters are used to retrieve the value of an instance variable, and setters are used to change the value of an instance variable.\n",
    "\n",
    "Here's an example of a class with a getter and a setter method:"
   ]
  },
  {
   "cell_type": "code",
   "execution_count": 13,
   "id": "e5e672dd-c02d-4798-89fa-086843d0df36",
   "metadata": {},
   "outputs": [
    {
     "name": "stdout",
     "output_type": "stream",
     "text": [
      "John Doe\n",
      "Jane Doe\n"
     ]
    }
   ],
   "source": [
    "class Person:\n",
    "    def __init__(self, name):\n",
    "        self._name = name\n",
    "        \n",
    "    def get_name(self):\n",
    "        return self._name\n",
    "    \n",
    "    def set_name(self, name):\n",
    "        self._name = name\n",
    "        \n",
    "    name = property(get_name, set_name)\n",
    "\n",
    "p = Person(\"John Doe\")\n",
    "print(p.name)  # Output: John Doe\n",
    "p.name = \"Jane Doe\"\n",
    "print(p.name)  # Output: Jane Doe"
   ]
  },
  {
   "cell_type": "markdown",
   "id": "67e012cc-1ac0-494c-a152-71606b442543",
   "metadata": {},
   "source": [
    "Q5. What is method overriding in python? Write a python code to demonstrate method overriding."
   ]
  },
  {
   "cell_type": "raw",
   "id": "1edcfa6d-4acb-4d3a-9183-7526ae64e6f9",
   "metadata": {},
   "source": [
    "Method overriding in Python is the ability of a subclass to provide a new implementation of a method that is already defined in its parent class. This allows the subclass to inherit the basic behavior of the method from the parent class but still customize its behavior to suit the needs of the subclass.\n",
    "\n",
    "Here's an example of method overriding in Python:"
   ]
  },
  {
   "cell_type": "code",
   "execution_count": 14,
   "id": "5471b41a-b72a-4dcd-8acc-48a15fa7a792",
   "metadata": {},
   "outputs": [
    {
     "name": "stdout",
     "output_type": "stream",
     "text": [
      "The animal makes a sound.\n",
      "The dog barks.\n"
     ]
    }
   ],
   "source": [
    "class Animal:\n",
    "    def make_sound(self):\n",
    "        print(\"The animal makes a sound.\")\n",
    "\n",
    "class Dog(Animal):\n",
    "    def make_sound(self):\n",
    "        print(\"The dog barks.\")\n",
    "\n",
    "a = Animal()\n",
    "d = Dog()\n",
    "\n",
    "a.make_sound()  # Output: The animal makes a sound.\n",
    "d.make_sound()  # Output: The dog barks."
   ]
  },
  {
   "cell_type": "code",
   "execution_count": null,
   "id": "21b1b69a-da88-4a6a-93da-1dafd7dd842c",
   "metadata": {},
   "outputs": [],
   "source": []
  }
 ],
 "metadata": {
  "kernelspec": {
   "display_name": "Python 3 (ipykernel)",
   "language": "python",
   "name": "python3"
  },
  "language_info": {
   "codemirror_mode": {
    "name": "ipython",
    "version": 3
   },
   "file_extension": ".py",
   "mimetype": "text/x-python",
   "name": "python",
   "nbconvert_exporter": "python",
   "pygments_lexer": "ipython3",
   "version": "3.10.8"
  }
 },
 "nbformat": 4,
 "nbformat_minor": 5
}
