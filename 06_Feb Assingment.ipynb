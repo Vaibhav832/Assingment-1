{
 "cells": [
  {
   "cell_type": "code",
   "execution_count": 1,
   "id": "8ae55559-f96b-4465-9ed2-03bd3c51b292",
   "metadata": {},
   "outputs": [
    {
     "name": "stdout",
     "output_type": "stream",
     "text": [
      "Product= 4134711838987085478833841242112000\n",
      "Flag_List= [1, 2, 3, 4, 44, 55, 66, 34, 56, 78, 89, 34, 1, 2, 3, 1, 34, 55, 67, 78, 89, 4, 45, 22, 61, 34, 56]\n"
     ]
    }
   ],
   "source": [
    "#Ans-1)\n",
    "flat_list = []\n",
    "def product_of_numbers(list1):\n",
    "    #flat_list = []\n",
    "    for i in list1:\n",
    "        if type(i) == int or type(i) == float:\n",
    "            flat_list.append(i)\n",
    "        elif type(i) == tuple:\n",
    "            for j in i:\n",
    "                if type(j) == int or type(j) == float:\n",
    "                    flat_list.append(j)\n",
    "        elif type(i) == list:\n",
    "            for j in i:\n",
    "                if type(j) == int or type(j) == float:\n",
    "                    flat_list.append(j)\n",
    "        elif type(i) == set:\n",
    "            for j in i:\n",
    "                if type(j) == int or type(j) == float:\n",
    "                    flat_list.append(j)\n",
    "        elif type(i) == dict:\n",
    "            for key, value in i.items():\n",
    "                if type(key) == int or type(key) == float:\n",
    "                    flat_list.append(key)\n",
    "                if type(value) == int or type(value) == float:\n",
    "                    flat_list.append(value)\n",
    "                if type(value) == list:\n",
    "                    flat_list.extend(value)\n",
    "                if type(value) == tuple:\n",
    "                    flat_list.extend(list(value))\n",
    "    product = 1\n",
    "    for num in flat_list:\n",
    "        if type(num) == int or type(num) == float:\n",
    "            product *= num\n",
    "    return product\n",
    "\n",
    "list1 = [1, 2, 3, 4, [44, 55, 66, True], False, (34, 56, 78, 89, 34), {1, 2, 3, 3, 2, 1}, {1: 34, \"key2\": [55, 67, 78, 89], 4: (45, 22, 61, 34)}, [56, 'data science'], 'Machine Learning']\n",
    "print(\"Product=\",product_of_numbers(list1))\n",
    "print(\"Flag_List=\",flat_list)"
   ]
  },
  {
   "cell_type": "code",
   "execution_count": 2,
   "id": "33938e39-26c6-4090-8fc8-0b2bde365f42",
   "metadata": {},
   "outputs": [
    {
     "name": "stdout",
     "output_type": "stream",
     "text": [
      "r$dzmg$gl$yvxlnv$z$wzgz$hxrvmgrhg.\n"
     ]
    }
   ],
   "source": [
    "#Ans-2)\n",
    "#python program to encrypt message\n",
    "def encrypt(sentence):\n",
    "    sentence = sentence.lower() # convert the input sentence to lowercase\n",
    "    output = \"\"\n",
    "    for char in sentence:\n",
    "        if char == ' ':\n",
    "            output += '$' # replace whitespace with dollar sign\n",
    "        elif char in 'abcdefghijklmnopqrstuvwxyz':\n",
    "            output += chr(122 - ord(char) + 97) # encrypt letters a to z\n",
    "        else:\n",
    "            output += char # keep punctuation marks unchanged\n",
    "    return output\n",
    "\n",
    "sentence = \"I want to become a Data Scientist.\"\n",
    "print(encrypt(sentence))"
   ]
  },
  {
   "cell_type": "code",
   "execution_count": null,
   "id": "164ca479-1deb-4c5b-a3de-fd85fdfc8fd0",
   "metadata": {},
   "outputs": [],
   "source": []
  }
 ],
 "metadata": {
  "kernelspec": {
   "display_name": "Python 3 (ipykernel)",
   "language": "python",
   "name": "python3"
  },
  "language_info": {
   "codemirror_mode": {
    "name": "ipython",
    "version": 3
   },
   "file_extension": ".py",
   "mimetype": "text/x-python",
   "name": "python",
   "nbconvert_exporter": "python",
   "pygments_lexer": "ipython3",
   "version": "3.10.8"
  }
 },
 "nbformat": 4,
 "nbformat_minor": 5
}
