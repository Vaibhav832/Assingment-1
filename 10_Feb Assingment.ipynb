{
 "cells": [
  {
   "cell_type": "markdown",
   "id": "cf1fb102-745a-4066-867b-778aaa3c4a90",
   "metadata": {},
   "source": [
    "Q1. Which function is used to open a file? What are the different modes of opening a file? Explain each mode\n",
    "of file opening."
   ]
  },
  {
   "cell_type": "raw",
   "id": "88a41213-57cb-4ddf-979e-3ae8534528ad",
   "metadata": {},
   "source": [
    "The open() function is used to open a file in Python. The open() function takes two arguments: the name of the file to be opened, and the mode in which the file is to be opened.\n",
    "\n",
    "The different modes of opening a file in Python are:\n",
    "\n",
    "i)'r' (read-only mode): This mode is used to open a file for reading. The file must exist, and you cannot write to the file in this mode. If the file does not exist, an error is raised.\n",
    "\n",
    "ii)'w' (write mode): This mode is used to create a new file or overwrite an existing file. If the file already exists, its contents are deleted, and a new file is created. If the file does not exist, a new file is created.\n",
    "\n",
    "iii)'a' (append mode): This mode is used to open an existing file for writing. The write operation adds the new data to the end of the file. If the file does not exist, a new file is created.\n",
    "\n",
    "iv)'x' (exclusive creation mode): This mode is used to create a new file for writing. If the file already exists, an error is raised. The x mode is useful when you only want to create a new file if it does not already exist.\n",
    "\n",
    "v)'b' (binary mode): This mode is used to open a binary file, such as an image or a executable file.\n",
    "\n",
    "vi)'+' (read and write mode): This mode is used to open a file for reading and writing. You can read from the file, write to the file, or both."
   ]
  },
  {
   "cell_type": "code",
   "execution_count": 1,
   "id": "e38e3ff5-a7b8-4803-9b65-f66fe8ad1cd5",
   "metadata": {},
   "outputs": [],
   "source": [
    "#For example, to open a file in read-only mode, you would use the following code:\n",
    "f = open('file.txt', 'r')\n",
    "#And to open a file in write mode, you would use the following code:\n",
    "f = open('file.txt', 'w')"
   ]
  },
  {
   "cell_type": "markdown",
   "id": "91dde289-256c-48e9-a56c-a0b1b0f4ed6d",
   "metadata": {},
   "source": [
    "Q2. Why close() function is used? Why is it important to close a file?"
   ]
  },
  {
   "cell_type": "raw",
   "id": "3ef4b614-a2dd-4a72-b355-4ec82b5bbdcd",
   "metadata": {},
   "source": [
    "The close() function is used to close an open file in Python. When you are done reading from or writing to a file, you need to close it so that the operating system can release any resources associated with the file and so that other programs can access the file.\n",
    "\n",
    "Closing a file is important for several reasons:\n",
    "\n",
    "1)Releases resources: When a file is open, the operating system allocates resources, such as memory, to the file. If the file is not closed, those resources remain allocated even after you have finished using the file. Closing the file releases those resources back to the operating system.\n",
    "\n",
    "2)Prevents data loss: If a file is not closed properly, the contents of the file may not be flushed to disk. This means that any changes you made to the file may be lost if the program terminates or the system crashes.\n",
    "\n",
    "3)Ensures data integrity: If multiple programs are trying to access the same file at the same time, it's possible that the data in the file may become corrupted. Closing a file ensures that the data in the file is consistent and that any changes are saved properly.\n",
    "\n",
    "4)Increases system performance: If too many files are open at the same time, the system can become slow and unresponsive. Closing files when they are no longer needed helps to keep the number of open files to a minimum, which can improve system performance."
   ]
  },
  {
   "cell_type": "markdown",
   "id": "0e62f3d5-5127-4839-860e-751b4aa39215",
   "metadata": {},
   "source": [
    "Q3. Write a python program to create a text file. Write ‘I want to become a Data Scientist’ in that file. Then\n",
    "close the file. Open this file and read the content of the file."
   ]
  },
  {
   "cell_type": "code",
   "execution_count": 3,
   "id": "ca39de3f-d4ed-4983-9f80-dbd3d70aec32",
   "metadata": {},
   "outputs": [
    {
     "name": "stdout",
     "output_type": "stream",
     "text": [
      "I want to become a Data Scientist\n"
     ]
    }
   ],
   "source": [
    "# Open the file in write mode\n",
    "with open(\"file.txt\", \"w\") as f:\n",
    "    # Write the text to the file\n",
    "    f.write(\"I want to become a Data Scientist\")\n",
    "\n",
    "# The file is automatically closed when you exit the with block\n",
    "\n",
    "# Open the file in read mode\n",
    "with open(\"file.txt\", \"r\") as f:\n",
    "    # Read the contents of the file\n",
    "    content = f.read()\n",
    "    print(content)"
   ]
  },
  {
   "cell_type": "markdown",
   "id": "ed9ea67c-e724-425a-9c0c-c33abe862290",
   "metadata": {},
   "source": [
    "Q4. Explain the following with python code: read(), readline() and readlines()."
   ]
  },
  {
   "cell_type": "code",
   "execution_count": 4,
   "id": "e7f43d5b-b1f9-46e3-9b60-268b267fb81b",
   "metadata": {},
   "outputs": [
    {
     "name": "stdout",
     "output_type": "stream",
     "text": [
      "I want to become a Data Scientist\n",
      "I want to become a Data Scientist\n",
      "I want to become a Data Scientist\n"
     ]
    }
   ],
   "source": [
    "\"\"\"\n",
    "The read(), readline(), and readlines() methods are used to read the contents of a file in Python.\n",
    "\n",
    "1)read(): The read() method reads the entire contents of a file and returns it as a single string. Here's an example:\n",
    "\"\"\"\n",
    "with open(\"file.txt\", \"r\") as f:\n",
    "    content = f.read()\n",
    "    print(content)\n",
    "\"\"\"\n",
    "2)readline(): The readline() method reads a single line from the file and returns it as a string. Here's an example:\n",
    "\"\"\"\n",
    "with open(\"file.txt\", \"r\") as f:\n",
    "    line = f.readline()\n",
    "    while line:\n",
    "        print(line)\n",
    "        line = f.readline()\n",
    "\"\"\"\n",
    "3)readlines(): The readlines() method reads all the lines of a file and returns them as a list of strings, where each string represents a single line. Here's an example:\n",
    "\"\"\"\n",
    "with open(\"file.txt\", \"r\") as f:\n",
    "    lines = f.readlines()\n",
    "    for line in lines:\n",
    "        print(line)"
   ]
  },
  {
   "cell_type": "markdown",
   "id": "3a148a2d-88b1-41ba-99ac-dd920dc364e5",
   "metadata": {},
   "source": [
    "Q5. Explain why with statement is used with open(). What is the advantage of using with statement and\n",
    "open() together?"
   ]
  },
  {
   "cell_type": "raw",
   "id": "3e960de2-76b9-4c8d-b44d-594fcfc844cc",
   "metadata": {},
   "source": [
    "The with statement is often used in conjunction with the open() function in Python because it provides a convenient way to handle the file I/O operations.\n",
    "\n",
    "The advantage of using the with statement with open() is that it makes it easier to manage file I/O operations, as it eliminates the need to explicitly close the file and eliminates the risk of forgetting to close the file. It also ensures that the file is closed even if an exception is raised within the with block."
   ]
  },
  {
   "cell_type": "markdown",
   "id": "7a8f0781-fc75-44a3-87de-710e085910a8",
   "metadata": {},
   "source": [
    "Q6. Explain the write() and writelines() functions. Give a suitable example."
   ]
  },
  {
   "cell_type": "code",
   "execution_count": 6,
   "id": "afe8b654-1e16-4f7f-9531-fe0f7d8901df",
   "metadata": {},
   "outputs": [],
   "source": [
    "\"\"\"\n",
    "The write() and writelines() functions are used to write data to a file in Python.\n",
    "\n",
    "1)write(): The write() function writes a string to the file. It takes a single string argument and writes it to the file. Here's an example:\n",
    "\"\"\"\n",
    "with open(\"file.txt\", \"w\") as f:\n",
    "    f.write(\"I want to become a Data Scientist\")\n",
    "\"\"\"\n",
    "2)writelines(): The writelines() function writes a sequence of strings to the file. It takes a list of strings as an argument and writes each string to a separate line in the file. Here's an example:\n",
    "\"\"\"\n",
    "lines = [\"Line 1\", \"Line 2\", \"Line 3\"]\n",
    "with open(\"file.txt\", \"w\") as f:\n",
    "    f.writelines(lines)"
   ]
  },
  {
   "cell_type": "code",
   "execution_count": null,
   "id": "7ac32520-aac1-46bc-be40-3d3b95d2990e",
   "metadata": {},
   "outputs": [],
   "source": []
  }
 ],
 "metadata": {
  "kernelspec": {
   "display_name": "Python 3 (ipykernel)",
   "language": "python",
   "name": "python3"
  },
  "language_info": {
   "codemirror_mode": {
    "name": "ipython",
    "version": 3
   },
   "file_extension": ".py",
   "mimetype": "text/x-python",
   "name": "python",
   "nbconvert_exporter": "python",
   "pygments_lexer": "ipython3",
   "version": "3.10.8"
  }
 },
 "nbformat": 4,
 "nbformat_minor": 5
}
