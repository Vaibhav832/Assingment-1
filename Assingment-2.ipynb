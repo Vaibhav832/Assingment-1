{
 "cells": [
  {
   "cell_type": "code",
   "execution_count": 2,
   "id": "887ccd64-0f30-489c-a892-aedfe23de767",
   "metadata": {},
   "outputs": [
    {
     "name": "stdin",
     "output_type": "stream",
     "text": [
      "Enter percentage: 95\n"
     ]
    },
    {
     "name": "stdout",
     "output_type": "stream",
     "text": [
      "Grade A\n"
     ]
    }
   ],
   "source": [
    "#program that accepts percentage from user and display grade\n",
    "per=eval(input(\"Enter percentage:\"))\n",
    "if(per>100 or per<0):\n",
    "    print(\"Invalid percentage\")\n",
    "elif(per>90):\n",
    "    print(\"Grade A\")\n",
    "elif(per>80 and per<=90):\n",
    "    print(\"Grade B\")\n",
    "elif(per>=60 and per<=80):\n",
    "    print(\"Grade C\")\n",
    "else:\n",
    "    print(\"Grade D\")"
   ]
  },
  {
   "cell_type": "code",
   "execution_count": 3,
   "id": "4bb5448f-2fb6-4d5e-8b03-a9e4ebb0b1a8",
   "metadata": {},
   "outputs": [
    {
     "name": "stdin",
     "output_type": "stream",
     "text": [
      "Enter the cost price of the bike: 9000000\n"
     ]
    },
    {
     "name": "stdout",
     "output_type": "stream",
     "text": [
      "The road tax @ 15 percent of cost price to be paid is: 1350000.0\n"
     ]
    }
   ],
   "source": [
    "#program that accepts cost price of a bike and displays the road tax to be paid\n",
    "cp=eval(input(\"Enter the cost price of the bike:\"))\n",
    "if(cp>100000):\n",
    "    rt=cp*0.15\n",
    "    print(\"The road tax @ 15 percent of cost price to be paid is:\",rt)\n",
    "elif(cp>50000 and cp<=100000):\n",
    "    rt=cp*0.10\n",
    "    print(\"The road tax @ 10 percent of cost price to be paid is:\",rt)\n",
    "else:\n",
    "    rt=cp*0.05\n",
    "    print(\"The road tax @ 5 percent of cost price to be paid is:\",rt)"
   ]
  },
  {
   "cell_type": "code",
   "execution_count": 4,
   "id": "31619d57-12aa-406d-82a8-f2537d5c9209",
   "metadata": {},
   "outputs": [
    {
     "name": "stdin",
     "output_type": "stream",
     "text": [
      "Enter the city name: Agra\n"
     ]
    },
    {
     "name": "stdout",
     "output_type": "stream",
     "text": [
      "Taj Mahal\n"
     ]
    }
   ],
   "source": [
    "#program that accepts any city from user and displays monumets of that city\n",
    "cty=input(\"Enter the city name:\")\n",
    "if(cty==\"Delhi\"):\n",
    "    print(\"Red Fort\")\n",
    "elif(cty==\"Agra\"):\n",
    "    print(\"Taj Mahal\")\n",
    "elif(cty==\"Jaipur\"):\n",
    "    print(\"Jal Mahal\")"
   ]
  },
  {
   "cell_type": "code",
   "execution_count": 5,
   "id": "0fb8e60c-0e98-404e-9cce-88d5d7f27890",
   "metadata": {},
   "outputs": [
    {
     "name": "stdin",
     "output_type": "stream",
     "text": [
      "Enter a number: 270\n"
     ]
    },
    {
     "name": "stdout",
     "output_type": "stream",
     "text": [
      "The number is divisible by 3 total 3 times before it becomes less than or equal to 10\n"
     ]
    }
   ],
   "source": [
    "#program to check how many times a number is divisible by 3 before it becomes less than or equal to 10\n",
    "num=int(input(\"Enter a number:\"))\n",
    "count=0\n",
    "while num>=10:\n",
    "    if num%3==0:\n",
    "        count+=1\n",
    "        num=num/3\n",
    "    else:\n",
    "        break\n",
    "print(\"The number is divisible by 3 total\",count,\"times before it becomes less than or equal to 10\")"
   ]
  },
  {
   "cell_type": "code",
   "execution_count": 7,
   "id": "81ad30fb-d1ac-4292-9411-e5f9f3a0ff85",
   "metadata": {},
   "outputs": [
    {
     "name": "stdout",
     "output_type": "stream",
     "text": [
      "1\n",
      "2\n",
      "3\n",
      "4\n",
      "5\n"
     ]
    },
    {
     "data": {
      "text/plain": [
       "'\\nWe would use a for loop in Python when you want to iterate over a sequence of items and perform some action for each item in the sequence.\\n'"
      ]
     },
     "execution_count": 7,
     "metadata": {},
     "output_type": "execute_result"
    }
   ],
   "source": [
    "\"\"\"\n",
    "Ans-5)A for loop in Python is used to iterate over a sequence (such as a list, tuple, string, etc.) or other iterable object and execute a block of code for each item in the sequence.\n",
    "For example, consider the following code that uses a for loop to iterate over a list of numbers and print each one:\n",
    "\"\"\"\n",
    "numbers = [1, 2, 3, 4, 5]\n",
    "for num in numbers:\n",
    "    print(num)\n",
    "\"\"\"\n",
    "We would use a for loop in Python when you want to iterate over a sequence of items and perform some action for each item in the sequence.\n",
    "\"\"\""
   ]
  },
  {
   "cell_type": "code",
   "execution_count": 8,
   "id": "0a8bf26c-e4e2-44ed-b2d3-9471cf2a46ea",
   "metadata": {},
   "outputs": [
    {
     "name": "stdout",
     "output_type": "stream",
     "text": [
      "\n",
      "Pattern 1\n",
      "*\n",
      "**\n",
      "***\n",
      "****\n",
      "*****\n",
      "\n",
      "Pattern 2\n",
      "******\n",
      "*****\n",
      "****\n",
      "***\n",
      "**\n",
      "*\n",
      "\n",
      "Pattern 3\n",
      "1\n",
      "12\n",
      "123\n",
      "1234\n",
      "12345\n"
     ]
    }
   ],
   "source": [
    "#program to print 3 different patterns using nested while loop\n",
    "print(\"\\nPattern 1\")\n",
    "i=1\n",
    "while i<=5:\n",
    "    j=1\n",
    "    while j<=i:\n",
    "        print(\"*\",end=\"\")\n",
    "        j+=1\n",
    "    print()\n",
    "    i+=1\n",
    "print(\"\\nPattern 2\")\n",
    "while i>=1:\n",
    "    j=1\n",
    "    while j<=i:\n",
    "        print(\"*\",end=\"\")\n",
    "        j+=1\n",
    "    print()\n",
    "    i-=1\n",
    "print(\"\\nPattern 3\")\n",
    "j=1\n",
    "while j<=5:\n",
    "    i=1\n",
    "    while i<=j:\n",
    "        print(i,end=\"\")\n",
    "        i+=1\n",
    "    print()\n",
    "    j+=1"
   ]
  },
  {
   "cell_type": "code",
   "execution_count": 9,
   "id": "6110c30c-57f1-4ced-9af9-1daa6ff4e471",
   "metadata": {},
   "outputs": [
    {
     "name": "stdout",
     "output_type": "stream",
     "text": [
      "10\n",
      "9\n",
      "8\n",
      "7\n",
      "6\n",
      "5\n",
      "4\n",
      "3\n",
      "2\n",
      "1\n"
     ]
    }
   ],
   "source": [
    "#program to reverse a while loop and print the numbers from 10 to 1\n",
    "num = 10\n",
    "while num >= 1:\n",
    "    print(num)\n",
    "    num = num - 1"
   ]
  },
  {
   "cell_type": "code",
   "execution_count": 10,
   "id": "f8519ecd-83dc-4502-af02-b07e0fcc1205",
   "metadata": {},
   "outputs": [
    {
     "name": "stdout",
     "output_type": "stream",
     "text": [
      "10 9 8 7 6 5 4 3 2 1 "
     ]
    }
   ],
   "source": [
    "#program to reverse a while loop and print the numbers from 10 to 1 in form of list\n",
    "num = 10\n",
    "while num >= 1:\n",
    "    print(num, end = \" \")\n",
    "    num = num - 1"
   ]
  }
 ],
 "metadata": {
  "kernelspec": {
   "display_name": "Python 3 (ipykernel)",
   "language": "python",
   "name": "python3"
  },
  "language_info": {
   "codemirror_mode": {
    "name": "ipython",
    "version": 3
   },
   "file_extension": ".py",
   "mimetype": "text/x-python",
   "name": "python",
   "nbconvert_exporter": "python",
   "pygments_lexer": "ipython3",
   "version": "3.10.8"
  }
 },
 "nbformat": 4,
 "nbformat_minor": 5
}
